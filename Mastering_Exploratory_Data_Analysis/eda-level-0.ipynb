{
 "cells": [
  {
   "cell_type": "code",
   "execution_count": null,
   "metadata": {},
   "outputs": [],
   "source": [
    "import numpy as np\n",
    "import pandas as pd\n",
    "from os.path import realpath as realpath\n",
    "\n",
    "# Monkey patching NumPy for compatibility with version >= 1.24\n",
    "np.float = np.float64\n",
    "np.int = np.int_\n",
    "np.object = np.object_\n",
    "np.bool = np.bool_\n",
    "\n",
    "pd.set_option(\"mode.copy_on_write\", True)\n"
   ]
  },
  {
   "cell_type": "markdown",
   "metadata": {},
   "source": [
    "# EDA Level 0 — Pure Understanding of Original Data"
   ]
  },
  {
   "cell_type": "code",
   "execution_count": null,
   "metadata": {},
   "outputs": [],
   "source": [
    "def column_summary(df):\n",
    "    summary_data = []\n",
    "\n",
    "    for col_name in df.columns:\n",
    "        col_dtype = df[col_name].dtype\n",
    "        num_of_nulls = df[col_name].isnull().sum()\n",
    "        num_of_nun_nulls = df[col_name].notnull.sum()\n",
    "        num_of_distinct_values = df[col_name].nunique()\n",
    "\n",
    "        if num_of_distinct_values <= 10:\n",
    "            distinct_values_counts = df[col_name].value_counts().to_dict()\n",
    "        else:\n",
    "            top_10_values_counts = df[col_name].value_counts().head(10).to_dict()\n",
    "            distinct_values_counts = {k: v for k, v in sorted(top_10_values_counts.items(), key=lambda item: item[1], reverse=True)}\n",
    "        \n",
    "        summary_data.append({\n",
    "            \"col_name\": col_name,\n",
    "            \"col_dtype\": col_dtype,\n",
    "            \"num_of_nulls\": num_of_nulls,\n",
    "            \"num_of_nun_nulls\": num_of_nun_nulls,\n",
    "            \"num_of_distinct_values\": num_of_distinct_values,\n",
    "            \"distinct_values_counts\": distinct_values_counts\n",
    "        })\n",
    "\n",
    "    summary_data = pd.DataFrame(summary_data)\n",
    "    return summary_data"
   ]
  }
 ],
 "metadata": {
  "kernelspec": {
   "display_name": "venv38",
   "language": "python",
   "name": "python3"
  },
  "language_info": {
   "name": "python",
   "version": "3.8.10"
  }
 },
 "nbformat": 4,
 "nbformat_minor": 2
}
