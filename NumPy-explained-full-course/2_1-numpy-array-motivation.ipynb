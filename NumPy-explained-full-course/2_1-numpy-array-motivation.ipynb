{
 "cells": [
  {
   "cell_type": "markdown",
   "metadata": {},
   "source": [
    "# NumPy Explained Full Course by Gorm-Analysis"
   ]
  },
  {
   "cell_type": "markdown",
   "metadata": {},
   "source": [
    "## NumPy Array Advantage (Motivation for Existence)"
   ]
  },
  {
   "cell_type": "code",
   "execution_count": 3,
   "metadata": {},
   "outputs": [],
   "source": [
    "import numpy as np"
   ]
  },
  {
   "cell_type": "code",
   "execution_count": 1,
   "metadata": {},
   "outputs": [
    {
     "name": "stdout",
     "output_type": "stream",
     "text": [
      "[100.0, 100.01, 100.02, 100.03, 100.04]\n"
     ]
    }
   ],
   "source": [
    "prices = []\n",
    "NUMBER_OF_SECONDS_IN_YEAR = 60 * 60 * 24 * 365\n",
    "\n",
    "for i in range(NUMBER_OF_SECONDS_IN_YEAR):\n",
    "    prices.append(100 + i / 100)\n",
    "\n",
    "print(prices[:5])"
   ]
  },
  {
   "cell_type": "code",
   "execution_count": 2,
   "metadata": {},
   "outputs": [
    {
     "name": "stdout",
     "output_type": "stream",
     "text": [
      "157779.995\n"
     ]
    }
   ],
   "source": [
    "avg = 0.0\n",
    "for p in prices:\n",
    "    avg += p / len(prices)\n",
    "\n",
    "print(avg)"
   ]
  },
  {
   "cell_type": "code",
   "execution_count": 4,
   "metadata": {},
   "outputs": [
    {
     "name": "stdout",
     "output_type": "stream",
     "text": [
      "[100.   100.01 100.02 100.03 100.04]\n"
     ]
    }
   ],
   "source": [
    "prices = 100 + np.arange(NUMBER_OF_SECONDS_IN_YEAR) / 100\n",
    "\n",
    "print(prices[:5])"
   ]
  },
  {
   "cell_type": "code",
   "execution_count": 5,
   "metadata": {},
   "outputs": [
    {
     "name": "stdout",
     "output_type": "stream",
     "text": [
      "157779.995\n"
     ]
    }
   ],
   "source": [
    "avg = np.mean(prices)\n",
    "\n",
    "print(avg)"
   ]
  }
 ],
 "metadata": {
  "kernelspec": {
   "display_name": "venv38",
   "language": "python",
   "name": "python3"
  },
  "language_info": {
   "codemirror_mode": {
    "name": "ipython",
    "version": 3
   },
   "file_extension": ".py",
   "mimetype": "text/x-python",
   "name": "python",
   "nbconvert_exporter": "python",
   "pygments_lexer": "ipython3",
   "version": "3.8.10"
  }
 },
 "nbformat": 4,
 "nbformat_minor": 2
}
