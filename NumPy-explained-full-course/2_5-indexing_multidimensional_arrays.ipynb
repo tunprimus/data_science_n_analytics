{
 "cells": [
  {
   "cell_type": "markdown",
   "metadata": {},
   "source": [
    "## 2.5 Indexing Multidimensional Arrays"
   ]
  },
  {
   "cell_type": "code",
   "execution_count": 1,
   "metadata": {},
   "outputs": [],
   "source": [
    "import numpy as np"
   ]
  },
  {
   "cell_type": "code",
   "execution_count": 2,
   "metadata": {},
   "outputs": [
    {
     "name": "stdout",
     "output_type": "stream",
     "text": [
      "[[ 5 10 15 20]\n",
      " [25 30 35 40]\n",
      " [45 50 55 60]]\n"
     ]
    }
   ],
   "source": [
    "bar = np.array([\n",
    "    [5, 10, 15, 20],\n",
    "    [25, 30, 35, 40],\n",
    "    [45, 50, 55, 60],\n",
    "])\n",
    "print(bar)"
   ]
  },
  {
   "cell_type": "code",
   "execution_count": 3,
   "metadata": {},
   "outputs": [
    {
     "data": {
      "text/plain": [
       "35"
      ]
     },
     "execution_count": 3,
     "metadata": {},
     "output_type": "execute_result"
    }
   ],
   "source": [
    "bar[1, 2]"
   ]
  },
  {
   "cell_type": "code",
   "execution_count": 4,
   "metadata": {},
   "outputs": [
    {
     "data": {
      "text/plain": [
       "array([ 5, 10, 15, 20])"
      ]
     },
     "execution_count": 4,
     "metadata": {},
     "output_type": "execute_result"
    }
   ],
   "source": [
    "bar[0]"
   ]
  },
  {
   "cell_type": "code",
   "execution_count": 5,
   "metadata": {},
   "outputs": [
    {
     "data": {
      "text/plain": [
       "array([[ 5, 10, 15, 20]])"
      ]
     },
     "execution_count": 5,
     "metadata": {},
     "output_type": "execute_result"
    }
   ],
   "source": [
    "bar[0, None]"
   ]
  },
  {
   "cell_type": "code",
   "execution_count": 6,
   "metadata": {},
   "outputs": [
    {
     "data": {
      "text/plain": [
       "array([[ 5, 10, 15, 20]])"
      ]
     },
     "execution_count": 6,
     "metadata": {},
     "output_type": "execute_result"
    }
   ],
   "source": [
    "bar[:1]"
   ]
  },
  {
   "cell_type": "code",
   "execution_count": 7,
   "metadata": {},
   "outputs": [
    {
     "data": {
      "text/plain": [
       "array([[35, 40],\n",
       "       [55, 60]])"
      ]
     },
     "execution_count": 7,
     "metadata": {},
     "output_type": "execute_result"
    }
   ],
   "source": [
    "bar[1:3, [-2, -1]]"
   ]
  },
  {
   "cell_type": "code",
   "execution_count": 9,
   "metadata": {},
   "outputs": [
    {
     "name": "stdout",
     "output_type": "stream",
     "text": [
      "[[-1 10 15 20]\n",
      " [25 30 35 40]\n",
      " [45 50 55 60]]\n"
     ]
    }
   ],
   "source": [
    "bar[0, 0] = -1\n",
    "print(bar)"
   ]
  },
  {
   "cell_type": "code",
   "execution_count": 10,
   "metadata": {},
   "outputs": [
    {
     "name": "stdout",
     "output_type": "stream",
     "text": [
      "[[-1 10 15 20]\n",
      " [45 50 55 60]\n",
      " [45 50 55 60]]\n"
     ]
    }
   ],
   "source": [
    "bar[1] = bar[2]\n",
    "print(bar)"
   ]
  },
  {
   "cell_type": "code",
   "execution_count": 11,
   "metadata": {},
   "outputs": [
    {
     "name": "stdout",
     "output_type": "stream",
     "text": [
      "[[ 0 10 15 20]\n",
      " [45  0 55 60]\n",
      " [45 50  0 60]]\n"
     ]
    }
   ],
   "source": [
    "bar[[0, 1, 2], [0, 1, 2]] = [0, 0, 0]\n",
    "print(bar)"
   ]
  },
  {
   "cell_type": "code",
   "execution_count": 12,
   "metadata": {},
   "outputs": [
    {
     "name": "stdout",
     "output_type": "stream",
     "text": [
      "[[ 5 10 15 20]\n",
      " [25 30 35 40]\n",
      " [45 50 55 60]\n",
      " [65 70 75 80]]\n"
     ]
    }
   ],
   "source": [
    "bar_4 = np.array([\n",
    "    [5, 10, 15, 20],\n",
    "    [25, 30, 35, 40],\n",
    "    [45, 50, 55, 60],\n",
    "    [65, 70, 75, 80]\n",
    "])\n",
    "print(bar_4)"
   ]
  },
  {
   "cell_type": "code",
   "execution_count": 14,
   "metadata": {},
   "outputs": [
    {
     "name": "stdout",
     "output_type": "stream",
     "text": [
      "[[ 0 10 15 20]\n",
      " [25  0 35 40]\n",
      " [45 50  0 60]\n",
      " [65 70 75  0]]\n"
     ]
    }
   ],
   "source": [
    "bar_4[[0, 1, 2, 3], [0, 1, 2, 3]] = [0, 0, 0, 0]\n",
    "print(bar_4)"
   ]
  },
  {
   "cell_type": "code",
   "execution_count": 15,
   "metadata": {},
   "outputs": [
    {
     "name": "stdout",
     "output_type": "stream",
     "text": [
      "[[[10 20]\n",
      "  [30 40]\n",
      "  [50 60]]\n",
      "\n",
      " [[11 12]\n",
      "  [13 14]\n",
      "  [15 16]]]\n"
     ]
    }
   ],
   "source": [
    "zoo = np.array([\n",
    "    [\n",
    "        [10, 20],\n",
    "        [30, 40],\n",
    "        [50, 60],\n",
    "    ],\n",
    "    [\n",
    "        [11, 12],\n",
    "        [13, 14],\n",
    "        [15, 16],\n",
    "    ]\n",
    "])\n",
    "print(zoo)"
   ]
  },
  {
   "cell_type": "code",
   "execution_count": 16,
   "metadata": {},
   "outputs": [
    {
     "name": "stdout",
     "output_type": "stream",
     "text": [
      "[[[10  5]\n",
      "  [30  5]\n",
      "  [50  5]]\n",
      "\n",
      " [[11 12]\n",
      "  [13 14]\n",
      "  [15 16]]]\n"
     ]
    }
   ],
   "source": [
    "zoo[0,:,1] = 5\n",
    "print(zoo)"
   ]
  },
  {
   "cell_type": "code",
   "execution_count": null,
   "metadata": {},
   "outputs": [],
   "source": []
  }
 ],
 "metadata": {
  "kernelspec": {
   "display_name": "venv38",
   "language": "python",
   "name": "python3"
  },
  "language_info": {
   "codemirror_mode": {
    "name": "ipython",
    "version": 3
   },
   "file_extension": ".py",
   "mimetype": "text/x-python",
   "name": "python",
   "nbconvert_exporter": "python",
   "pygments_lexer": "ipython3",
   "version": "3.8.10"
  }
 },
 "nbformat": 4,
 "nbformat_minor": 2
}
