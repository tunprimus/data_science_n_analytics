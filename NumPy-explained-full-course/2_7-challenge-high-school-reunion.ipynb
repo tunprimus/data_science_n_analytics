{
 "cells": [
  {
   "cell_type": "markdown",
   "metadata": {},
   "source": [
    "## 2.7 Challenge: High School Reunion"
   ]
  },
  {
   "cell_type": "markdown",
   "metadata": {},
   "source": [
    "With your high school reunion fast approaching, you decide to get in shape and lose some weight . You record your weight every day for five weeks starting on a Monday."
   ]
  },
  {
   "cell_type": "code",
   "execution_count": 1,
   "metadata": {},
   "outputs": [],
   "source": [
    "import numpy as np"
   ]
  },
  {
   "cell_type": "code",
   "execution_count": 2,
   "metadata": {},
   "outputs": [
    {
     "name": "stdout",
     "output_type": "stream",
     "text": [
      "[185.  184.8 184.6 184.4 184.2 184.  183.8 183.6 183.4 183.2 183.  182.8\n",
      " 182.6 182.4 182.2 182.  181.8 181.6 181.4 181.2 181.  180.8 180.6 180.4\n",
      " 180.2 180.  179.8 179.6 179.4 179.2 179.  178.8 178.6 178.4 178.2]\n"
     ]
    }
   ],
   "source": [
    "dailywts = 185 - np.arange(5*7) / 5\n",
    "print(dailywts)"
   ]
  },
  {
   "cell_type": "markdown",
   "metadata": {},
   "source": [
    "Given these daily weights, build an array with your average weight per weekend."
   ]
  },
  {
   "cell_type": "code",
   "execution_count": 14,
   "metadata": {},
   "outputs": [
    {
     "name": "stdout",
     "output_type": "stream",
     "text": [
      "[[185.  184.8 184.6 184.4 184.2 184.  183.8]\n",
      " [183.6 183.4 183.2 183.  182.8 182.6 182.4]\n",
      " [182.2 182.  181.8 181.6 181.4 181.2 181. ]\n",
      " [180.8 180.6 180.4 180.2 180.  179.8 179.6]\n",
      " [179.4 179.2 179.  178.8 178.6 178.4 178.2]]\n"
     ]
    }
   ],
   "source": [
    "dailywts_reshaped = dailywts.reshape(5, 7)\n",
    "print(dailywts_reshaped)"
   ]
  },
  {
   "cell_type": "code",
   "execution_count": 16,
   "metadata": {},
   "outputs": [
    {
     "name": "stdout",
     "output_type": "stream",
     "text": [
      "[184.4 183.  181.6 180.2 178.8]\n"
     ]
    }
   ],
   "source": [
    "weekly_mean_weight = np.mean(dailywts_reshaped, axis=1)\n",
    "print(weekly_mean_weight)"
   ]
  },
  {
   "cell_type": "code",
   "execution_count": 10,
   "metadata": {},
   "outputs": [],
   "source": [
    "sat_weights = dailywts[5::7]"
   ]
  },
  {
   "cell_type": "code",
   "execution_count": 11,
   "metadata": {},
   "outputs": [],
   "source": [
    "sun_weights = dailywts[6::7]"
   ]
  },
  {
   "cell_type": "code",
   "execution_count": 12,
   "metadata": {},
   "outputs": [],
   "source": [
    "total_weight_per_weekend = sat_weights + sun_weights"
   ]
  },
  {
   "cell_type": "code",
   "execution_count": 13,
   "metadata": {},
   "outputs": [
    {
     "name": "stdout",
     "output_type": "stream",
     "text": [
      "[183.9 182.5 181.1 179.7 178.3]\n"
     ]
    }
   ],
   "source": [
    "avg_weekend_weight = total_weight_per_weekend / 2\n",
    "print(avg_weekend_weight)"
   ]
  }
 ],
 "metadata": {
  "kernelspec": {
   "display_name": "venv38",
   "language": "python",
   "name": "python3"
  },
  "language_info": {
   "codemirror_mode": {
    "name": "ipython",
    "version": 3
   },
   "file_extension": ".py",
   "mimetype": "text/x-python",
   "name": "python",
   "nbconvert_exporter": "python",
   "pygments_lexer": "ipython3",
   "version": "3.8.10"
  }
 },
 "nbformat": 4,
 "nbformat_minor": 2
}
