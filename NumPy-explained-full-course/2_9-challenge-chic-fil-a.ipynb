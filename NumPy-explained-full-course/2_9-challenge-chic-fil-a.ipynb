version https://git-lfs.github.com/spec/v1
oid sha256:95cb6721bc2841d7fdbc121b73fad9cc34373af4abd377c5d938b2e43e99f092
size 2530
