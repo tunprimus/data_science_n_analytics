{
 "cells": [
  {
   "cell_type": "markdown",
   "metadata": {},
   "source": [
    "## 2.9 Challenge: Chic Fill A Problem"
   ]
  },
  {
   "cell_type": "markdown",
   "metadata": {},
   "source": [
    "You decide to invest in a series of billboards along interstate 10 to advertise your stylish new chicken restaurant, Chic-fil-A. You buy three billboards evenly spaced starting on mile marker 17 and ending on mile marker 28. Then you buy another three billboards evenly spaced starting on mile marker 32 and ending on mile marker 36. In order, from mile marker 17 to 36, your billboards display these ads: A, B, C, C, B, A. Determine how far each \"C\" ad is from your restaurant while is located at mile marker 30."
   ]
  },
  {
   "cell_type": "code",
   "execution_count": 1,
   "metadata": {},
   "outputs": [],
   "source": [
    "import numpy as np"
   ]
  },
  {
   "cell_type": "code",
   "execution_count": 16,
   "metadata": {},
   "outputs": [
    {
     "name": "stdout",
     "output_type": "stream",
     "text": [
      "[[17.  22.5 28. ]\n",
      " [32.  34.  36. ]]\n"
     ]
    }
   ],
   "source": [
    "NUM_BILLBOARDS = 3\n",
    "\n",
    "RESTAURANT_LOCATION = 30\n",
    "\n",
    "billboard_locations = np.linspace(start = [17, 32], stop = [28, 36], num = NUM_BILLBOARDS, axis = 1)\n",
    "print(billboard_locations)"
   ]
  },
  {
   "cell_type": "code",
   "execution_count": 18,
   "metadata": {},
   "outputs": [
    {
     "name": "stdout",
     "output_type": "stream",
     "text": [
      "[[13.   7.5  2. ]\n",
      " [ 2.   4.   6. ]]\n"
     ]
    }
   ],
   "source": [
    "distances_from_restaurant = np.abs(billboard_locations - RESTAURANT_LOCATION)\n",
    "print(distances_from_restaurant)"
   ]
  },
  {
   "cell_type": "code",
   "execution_count": 26,
   "metadata": {},
   "outputs": [
    {
     "name": "stdout",
     "output_type": "stream",
     "text": [
      "[2. 2.]\n"
     ]
    }
   ],
   "source": [
    "distances_of_C_ad = np.abs(billboard_locations - RESTAURANT_LOCATION)[[0, 1], [2, 0]]\n",
    "print(distances_of_C_ad)"
   ]
  }
 ],
 "metadata": {
  "kernelspec": {
   "display_name": "venv38",
   "language": "python",
   "name": "python3"
  },
  "language_info": {
   "codemirror_mode": {
    "name": "ipython",
    "version": 3
   },
   "file_extension": ".py",
   "mimetype": "text/x-python",
   "name": "python",
   "nbconvert_exporter": "python",
   "pygments_lexer": "ipython3",
   "version": "3.8.10"
  }
 },
 "nbformat": 4,
 "nbformat_minor": 2
}
