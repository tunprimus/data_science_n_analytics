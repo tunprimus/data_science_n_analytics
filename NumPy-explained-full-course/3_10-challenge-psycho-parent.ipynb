{
 "cells": [
  {
   "cell_type": "markdown",
   "metadata": {},
   "source": [
    "## 3.10 Challenge: Psycho Parent Problem"
   ]
  },
  {
   "cell_type": "markdown",
   "metadata": {},
   "source": [
    "Eager to make your mark on the PTA, you decide the best way to hide eggs for the upcoming easter egg hunt is to use NumPy. You represent the field as a 10x10 array of 0s. Now your goal is to insert twenty random normal values at random (non-repeating) locations in the grid that tell you how much candy to hide at each spot and where."
   ]
  },
  {
   "cell_type": "code",
   "execution_count": 2,
   "metadata": {},
   "outputs": [],
   "source": [
    "import numpy as np"
   ]
  },
  {
   "cell_type": "code",
   "execution_count": 3,
   "metadata": {},
   "outputs": [
    {
     "name": "stdout",
     "output_type": "stream",
     "text": [
      "[[0. 0. 0. 0. 0. 0. 0. 0. 0. 0.]\n",
      " [0. 0. 0. 0. 0. 0. 0. 0. 0. 0.]\n",
      " [0. 0. 0. 0. 0. 0. 0. 0. 0. 0.]\n",
      " [0. 0. 0. 0. 0. 0. 0. 0. 0. 0.]\n",
      " [0. 0. 0. 0. 0. 0. 0. 0. 0. 0.]\n",
      " [0. 0. 0. 0. 0. 0. 0. 0. 0. 0.]\n",
      " [0. 0. 0. 0. 0. 0. 0. 0. 0. 0.]\n",
      " [0. 0. 0. 0. 0. 0. 0. 0. 0. 0.]\n",
      " [0. 0. 0. 0. 0. 0. 0. 0. 0. 0.]\n",
      " [0. 0. 0. 0. 0. 0. 0. 0. 0. 0.]]\n"
     ]
    }
   ],
   "source": [
    "field = np.zeros(shape = (10, 10))\n",
    "print(field)"
   ]
  },
  {
   "cell_type": "code",
   "execution_count": 4,
   "metadata": {},
   "outputs": [],
   "source": [
    "np.set_printoptions(linewidth=999)\n",
    "generator = np.random.default_rng(1234)"
   ]
  },
  {
   "cell_type": "code",
   "execution_count": 5,
   "metadata": {},
   "outputs": [
    {
     "name": "stdout",
     "output_type": "stream",
     "text": [
      "[-1.6   0.06  0.74  0.15  0.86  2.91 -1.48  0.95 -1.67  0.34 -0.51  1.32 -0.86  0.52 -1.27 -2.16  0.43  1.73  0.52 -1.  ]\n",
      "[15 99 42 55 41  5  3 86 39 35 61 46 63 48 11 84 24 17  0 51]\n"
     ]
    }
   ],
   "source": [
    "# Number of candies in each egg\n",
    "values = np.round(generator.normal(size = 20), 2)\n",
    "print(values)\n",
    "\n",
    "# Sample 20 locations randomly\n",
    "locations = generator.choice(field.size, len(values), replace = False)\n",
    "print(locations)"
   ]
  },
  {
   "cell_type": "code",
   "execution_count": 6,
   "metadata": {},
   "outputs": [
    {
     "name": "stdout",
     "output_type": "stream",
     "text": [
      "[[ 0.52  0.    0.   -1.48  0.    2.91  0.    0.    0.    0.  ]\n",
      " [ 0.   -1.27  0.    0.    0.   -1.6   0.    1.73  0.    0.  ]\n",
      " [ 0.    0.    0.    0.    0.43  0.    0.    0.    0.    0.  ]\n",
      " [ 0.    0.    0.    0.    0.    0.34  0.    0.    0.   -1.67]\n",
      " [ 0.    0.86  0.74  0.    0.    0.    1.32  0.    0.52  0.  ]\n",
      " [ 0.   -1.    0.    0.    0.    0.15  0.    0.    0.    0.  ]\n",
      " [ 0.   -0.51  0.   -0.86  0.    0.    0.    0.    0.    0.  ]\n",
      " [ 0.    0.    0.    0.    0.    0.    0.    0.    0.    0.  ]\n",
      " [ 0.    0.    0.    0.   -2.16  0.    0.95  0.    0.    0.  ]\n",
      " [ 0.    0.    0.    0.    0.    0.    0.    0.    0.    0.06]]\n"
     ]
    }
   ],
   "source": [
    "# Unravel the field array with numpy.ravel, then select the needed locations and assign the candy values to those locations\n",
    "\n",
    "# Note: ravel() does not modify the array nor generates a new array. It just returns a view\n",
    "field.ravel()[locations] = values\n",
    "print(field)"
   ]
  }
 ],
 "metadata": {
  "kernelspec": {
   "display_name": "venv38",
   "language": "python",
   "name": "python3"
  },
  "language_info": {
   "codemirror_mode": {
    "name": "ipython",
    "version": 3
   },
   "file_extension": ".py",
   "mimetype": "text/x-python",
   "name": "python",
   "nbconvert_exporter": "python",
   "pygments_lexer": "ipython3",
   "version": "3.8.10"
  }
 },
 "nbformat": 4,
 "nbformat_minor": 2
}
