version https://git-lfs.github.com/spec/v1
oid sha256:6dae945f20b091b240774a92cb3f400cb7d4861779a129a06f9e5b1eed1eb4e5
size 5625
