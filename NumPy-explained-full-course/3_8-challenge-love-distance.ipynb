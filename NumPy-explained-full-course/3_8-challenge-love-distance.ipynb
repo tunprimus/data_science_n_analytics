{
 "cells": [
  {
   "cell_type": "markdown",
   "metadata": {},
   "source": [
    "## 3.8 Challenge: Love Distance Problem"
   ]
  },
  {
   "cell_type": "markdown",
   "metadata": {},
   "source": [
    "You are a relationship scientist and you have developed a questionnaire that determines a person's love score, a real value number between 0 and 100. Your theory is that two people with similar love scores should make a good match. Given the love scores for 10 different people, create a matrix where (i, j) gives the absolute difference of the love scores for person i and person j."
   ]
  },
  {
   "cell_type": "code",
   "execution_count": 2,
   "metadata": {},
   "outputs": [],
   "source": [
    "import numpy as np"
   ]
  },
  {
   "cell_type": "code",
   "execution_count": 3,
   "metadata": {},
   "outputs": [
    {
     "name": "stdout",
     "output_type": "stream",
     "text": [
      "[ 9.5  53.58 91.77 98.15 84.88 74.61 40.94 56.49  8.39 64.69]\n"
     ]
    }
   ],
   "source": [
    "generator = np.random.default_rng(1010)\n",
    "love_scores = np.round(generator.uniform(low = 0, high = 100, size = 10), 2)\n",
    "\n",
    "print(love_scores)"
   ]
  },
  {
   "cell_type": "code",
   "execution_count": 4,
   "metadata": {},
   "outputs": [
    {
     "name": "stdout",
     "output_type": "stream",
     "text": [
      "[[ 9.5 ]\n",
      " [53.58]\n",
      " [91.77]\n",
      " [98.15]\n",
      " [84.88]\n",
      " [74.61]\n",
      " [40.94]\n",
      " [56.49]\n",
      " [ 8.39]\n",
      " [64.69]]\n",
      "[[ 9.5  53.58 91.77 98.15 84.88 74.61 40.94 56.49  8.39 64.69]]\n"
     ]
    }
   ],
   "source": [
    "# Use broadcasting to create a difference matrix to solve\n",
    "matrix_i = love_scores[:, None]\n",
    "matrix_j = love_scores[None, :]\n",
    "\n",
    "print(matrix_i)\n",
    "print(matrix_j)"
   ]
  },
  {
   "cell_type": "code",
   "execution_count": 7,
   "metadata": {},
   "outputs": [
    {
     "name": "stdout",
     "output_type": "stream",
     "text": [
      "[[ 0.   44.08 82.27 88.65 75.38 65.11 31.44 46.99  1.11 55.19]\n",
      " [44.08  0.   38.19 44.57 31.3  21.03 12.64  2.91 45.19 11.11]\n",
      " [82.27 38.19  0.    6.38  6.89 17.16 50.83 35.28 83.38 27.08]\n",
      " [88.65 44.57  6.38  0.   13.27 23.54 57.21 41.66 89.76 33.46]\n",
      " [75.38 31.3   6.89 13.27  0.   10.27 43.94 28.39 76.49 20.19]\n",
      " [65.11 21.03 17.16 23.54 10.27  0.   33.67 18.12 66.22  9.92]\n",
      " [31.44 12.64 50.83 57.21 43.94 33.67  0.   15.55 32.55 23.75]\n",
      " [46.99  2.91 35.28 41.66 28.39 18.12 15.55  0.   48.1   8.2 ]\n",
      " [ 1.11 45.19 83.38 89.76 76.49 66.22 32.55 48.1   0.   56.3 ]\n",
      " [55.19 11.11 27.08 33.46 20.19  9.92 23.75  8.2  56.3   0.  ]]\n"
     ]
    }
   ],
   "source": [
    "np.set_printoptions(linewidth = 999)\n",
    "abs_diff = np.abs(matrix_i - matrix_j)\n",
    "print(abs_diff)"
   ]
  }
 ],
 "metadata": {
  "kernelspec": {
   "display_name": "venv38",
   "language": "python",
   "name": "python3"
  },
  "language_info": {
   "codemirror_mode": {
    "name": "ipython",
    "version": 3
   },
   "file_extension": ".py",
   "mimetype": "text/x-python",
   "name": "python",
   "nbconvert_exporter": "python",
   "pygments_lexer": "ipython3",
   "version": "3.8.10"
  }
 },
 "nbformat": 4,
 "nbformat_minor": 2
}
