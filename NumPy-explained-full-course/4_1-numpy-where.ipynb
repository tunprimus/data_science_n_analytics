{
 "cells": [
  {
   "cell_type": "markdown",
   "metadata": {},
   "source": [
    "# 4.1 Numpy Where"
   ]
  },
  {
   "cell_type": "markdown",
   "metadata": {},
   "source": [
    "Avoid using `for loop` in NumPy with vectorisation."
   ]
  },
  {
   "cell_type": "code",
   "execution_count": 1,
   "metadata": {},
   "outputs": [],
   "source": [
    "import numpy as np"
   ]
  },
  {
   "cell_type": "code",
   "execution_count": 27,
   "metadata": {},
   "outputs": [],
   "source": [
    "# Make a random number generator\n",
    "generator = np.random.default_rng()"
   ]
  },
  {
   "cell_type": "code",
   "execution_count": 28,
   "metadata": {},
   "outputs": [
    {
     "name": "stdout",
     "output_type": "stream",
     "text": [
      "[5 0 4 ... 2 4 4]\n"
     ]
    }
   ],
   "source": [
    "# Sample 1M integers between 0 and 5\n",
    "foo = generator.integers(6, size = 2 * 10**6)\n",
    "print(foo)"
   ]
  },
  {
   "cell_type": "code",
   "execution_count": 29,
   "metadata": {},
   "outputs": [
    {
     "name": "stdout",
     "output_type": "stream",
     "text": [
      "[0 4 1 ... 2 5 2]\n"
     ]
    }
   ],
   "source": [
    "# Sample 1M integers between 0 and 5\n",
    "bar = generator.integers(6, size = 2 * 10**6)\n",
    "print(bar)"
   ]
  },
  {
   "cell_type": "code",
   "execution_count": 36,
   "metadata": {},
   "outputs": [
    {
     "name": "stdout",
     "output_type": "stream",
     "text": [
      "[10.  0.  2. ...  4.  2.  8.]\n",
      "[10.  0.  2. ...  4.  2.  8.]\n",
      "[10.  0.  2. ...  4.  2.  8.]\n",
      "[10.  0.  2. ...  4.  2.  8.]\n",
      "[10.  0.  2. ...  4.  2.  8.]\n",
      "[10.  0.  2. ...  4.  2.  8.]\n",
      "[10.  0.  2. ...  4.  2.  8.]\n",
      "[10.  0.  2. ...  4.  2.  8.]\n",
      "1.5 s ± 130 ms per loop (mean ± std. dev. of 7 runs, 1 loop each)\n"
     ]
    }
   ],
   "source": [
    "%%timeit\n",
    "\n",
    "baz = np.zeros(foo.size)\n",
    "\n",
    "for i in range(foo.size):\n",
    "    if bar[i] % 2 == 0:\n",
    "        baz[i] = foo[i] * 2\n",
    "    else:\n",
    "        baz[i] = foo[i] / 2\n",
    "\n",
    "print(baz)"
   ]
  },
  {
   "cell_type": "code",
   "execution_count": 37,
   "metadata": {},
   "outputs": [
    {
     "name": "stdout",
     "output_type": "stream",
     "text": [
      "[2.5 0.  8.  ... 1.  8.  2. ]\n",
      "[2.5 0.  8.  ... 1.  8.  2. ]\n",
      "[2.5 0.  8.  ... 1.  8.  2. ]\n",
      "[2.5 0.  8.  ... 1.  8.  2. ]\n",
      "[2.5 0.  8.  ... 1.  8.  2. ]\n",
      "[2.5 0.  8.  ... 1.  8.  2. ]\n",
      "[2.5 0.  8.  ... 1.  8.  2. ]\n",
      "[2.5 0.  8.  ... 1.  8.  2. ]\n",
      "[2.5 0.  8.  ... 1.  8.  2. ]\n",
      "[2.5 0.  8.  ... 1.  8.  2. ]\n",
      "[2.5 0.  8.  ... 1.  8.  2. ]\n",
      "[2.5 0.  8.  ... 1.  8.  2. ]\n",
      "[2.5 0.  8.  ... 1.  8.  2. ]\n",
      "[2.5 0.  8.  ... 1.  8.  2. ]\n",
      "[2.5 0.  8.  ... 1.  8.  2. ]\n",
      "[2.5 0.  8.  ... 1.  8.  2. ]\n",
      "[2.5 0.  8.  ... 1.  8.  2. ]\n",
      "[2.5 0.  8.  ... 1.  8.  2. ]\n",
      "[2.5 0.  8.  ... 1.  8.  2. ]\n",
      "[2.5 0.  8.  ... 1.  8.  2. ]\n",
      "[2.5 0.  8.  ... 1.  8.  2. ]\n",
      "[2.5 0.  8.  ... 1.  8.  2. ]\n",
      "[2.5 0.  8.  ... 1.  8.  2. ]\n",
      "[2.5 0.  8.  ... 1.  8.  2. ]\n",
      "[2.5 0.  8.  ... 1.  8.  2. ]\n",
      "[2.5 0.  8.  ... 1.  8.  2. ]\n",
      "[2.5 0.  8.  ... 1.  8.  2. ]\n",
      "[2.5 0.  8.  ... 1.  8.  2. ]\n",
      "[2.5 0.  8.  ... 1.  8.  2. ]\n",
      "[2.5 0.  8.  ... 1.  8.  2. ]\n",
      "[2.5 0.  8.  ... 1.  8.  2. ]\n",
      "[2.5 0.  8.  ... 1.  8.  2. ]\n",
      "[2.5 0.  8.  ... 1.  8.  2. ]\n",
      "[2.5 0.  8.  ... 1.  8.  2. ]\n",
      "[2.5 0.  8.  ... 1.  8.  2. ]\n",
      "[2.5 0.  8.  ... 1.  8.  2. ]\n",
      "[2.5 0.  8.  ... 1.  8.  2. ]\n",
      "[2.5 0.  8.  ... 1.  8.  2. ]\n",
      "[2.5 0.  8.  ... 1.  8.  2. ]\n",
      "[2.5 0.  8.  ... 1.  8.  2. ]\n",
      "[2.5 0.  8.  ... 1.  8.  2. ]\n",
      "[2.5 0.  8.  ... 1.  8.  2. ]\n",
      "[2.5 0.  8.  ... 1.  8.  2. ]\n",
      "[2.5 0.  8.  ... 1.  8.  2. ]\n",
      "[2.5 0.  8.  ... 1.  8.  2. ]\n",
      "[2.5 0.  8.  ... 1.  8.  2. ]\n",
      "[2.5 0.  8.  ... 1.  8.  2. ]\n",
      "[2.5 0.  8.  ... 1.  8.  2. ]\n",
      "[2.5 0.  8.  ... 1.  8.  2. ]\n",
      "[2.5 0.  8.  ... 1.  8.  2. ]\n",
      "[2.5 0.  8.  ... 1.  8.  2. ]\n",
      "[2.5 0.  8.  ... 1.  8.  2. ]\n",
      "[2.5 0.  8.  ... 1.  8.  2. ]\n",
      "[2.5 0.  8.  ... 1.  8.  2. ]\n",
      "[2.5 0.  8.  ... 1.  8.  2. ]\n",
      "[2.5 0.  8.  ... 1.  8.  2. ]\n",
      "[2.5 0.  8.  ... 1.  8.  2. ]\n",
      "[2.5 0.  8.  ... 1.  8.  2. ]\n",
      "[2.5 0.  8.  ... 1.  8.  2. ]\n",
      "[2.5 0.  8.  ... 1.  8.  2. ]\n",
      "[2.5 0.  8.  ... 1.  8.  2. ]\n",
      "[2.5 0.  8.  ... 1.  8.  2. ]\n",
      "[2.5 0.  8.  ... 1.  8.  2. ]\n",
      "[2.5 0.  8.  ... 1.  8.  2. ]\n",
      "[2.5 0.  8.  ... 1.  8.  2. ]\n",
      "[2.5 0.  8.  ... 1.  8.  2. ]\n",
      "[2.5 0.  8.  ... 1.  8.  2. ]\n",
      "[2.5 0.  8.  ... 1.  8.  2. ]\n",
      "[2.5 0.  8.  ... 1.  8.  2. ]\n",
      "[2.5 0.  8.  ... 1.  8.  2. ]\n",
      "[2.5 0.  8.  ... 1.  8.  2. ]\n",
      "[2.5 0.  8.  ... 1.  8.  2. ]\n",
      "[2.5 0.  8.  ... 1.  8.  2. ]\n",
      "[2.5 0.  8.  ... 1.  8.  2. ]\n",
      "[2.5 0.  8.  ... 1.  8.  2. ]\n",
      "[2.5 0.  8.  ... 1.  8.  2. ]\n",
      "[2.5 0.  8.  ... 1.  8.  2. ]\n",
      "[2.5 0.  8.  ... 1.  8.  2. ]\n",
      "[2.5 0.  8.  ... 1.  8.  2. ]\n",
      "[2.5 0.  8.  ... 1.  8.  2. ]\n",
      "[2.5 0.  8.  ... 1.  8.  2. ]\n",
      "61.9 ms ± 2.22 ms per loop (mean ± std. dev. of 7 runs, 10 loops each)\n"
     ]
    }
   ],
   "source": [
    "%%timeit\n",
    "\n",
    "boz = np.where(bar % 2, foo * 2, foo / 2)\n",
    "\n",
    "print(boz)"
   ]
  },
  {
   "cell_type": "code",
   "execution_count": 38,
   "metadata": {},
   "outputs": [
    {
     "data": {
      "text/plain": [
       "False"
      ]
     },
     "execution_count": 38,
     "metadata": {},
     "output_type": "execute_result"
    }
   ],
   "source": [
    "np.array_equal(baz, boz)"
   ]
  }
 ],
 "metadata": {
  "kernelspec": {
   "display_name": "venv38",
   "language": "python",
   "name": "python3"
  },
  "language_info": {
   "codemirror_mode": {
    "name": "ipython",
    "version": 3
   },
   "file_extension": ".py",
   "mimetype": "text/x-python",
   "name": "python",
   "nbconvert_exporter": "python",
   "pygments_lexer": "ipython3",
   "version": "3.8.10"
  }
 },
 "nbformat": 4,
 "nbformat_minor": 2
}
