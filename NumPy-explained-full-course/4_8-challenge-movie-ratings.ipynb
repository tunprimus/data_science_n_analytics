{
 "cells": [
  {
   "cell_type": "markdown",
   "metadata": {},
   "source": [
    "## 4.8 Challenge: Movie Ratings"
   ]
  },
  {
   "cell_type": "markdown",
   "metadata": {},
   "source": [
    "You are given a 10x2 array of floats where each row represents a movie. The first column represents the movie's rating and the second column represents the director's rating. Your goal is to create a third column to represent the overall rating. The overall rating is equal to the movie's rating if it exists, otherwise the director's rating."
   ]
  },
  {
   "cell_type": "code",
   "execution_count": 1,
   "metadata": {},
   "outputs": [],
   "source": [
    "import numpy as np"
   ]
  },
  {
   "cell_type": "code",
   "execution_count": 3,
   "metadata": {},
   "outputs": [
    {
     "name": "stdout",
     "output_type": "stream",
     "text": [
      "[[ 7.  1.]\n",
      " [nan  2.]\n",
      " [nan  8.]\n",
      " [ 9.  3.]\n",
      " [ 8.  9.]\n",
      " [ 5.  2.]\n",
      " [ 8.  2.]\n",
      " [nan  6.]\n",
      " [ 9.  2.]\n",
      " [nan  5.]]\n"
     ]
    }
   ],
   "source": [
    "generator = np.random.default_rng(123)\n",
    "ratings = np.round(generator.uniform(low = 0.0, high = 10.0, size = (10, 2)))\n",
    "ratings[[1, 2, 7, 9], [0, 0, 0, 0]] = np.nan\n",
    "\n",
    "print(ratings)"
   ]
  },
  {
   "cell_type": "code",
   "execution_count": 8,
   "metadata": {},
   "outputs": [
    {
     "name": "stdout",
     "output_type": "stream",
     "text": [
      "[7. 2. 8. 9. 8. 5. 8. 6. 9. 5.]\n",
      "[[ 7.  1.  7.]\n",
      " [nan  2.  2.]\n",
      " [nan  8.  8.]\n",
      " [ 9.  3.  9.]\n",
      " [ 8.  9.  8.]\n",
      " [ 5.  2.  5.]\n",
      " [ 8.  2.  8.]\n",
      " [nan  6.  6.]\n",
      " [ 9.  2.  9.]\n",
      " [nan  5.  5.]]\n"
     ]
    }
   ],
   "source": [
    "movie_ratings = np.where(~np.isnan(ratings[:, 0]), ratings[:, 0], ratings[:, 1])\n",
    "print(movie_ratings)\n",
    "\n",
    "overall_ratings = np.column_stack((ratings, movie_ratings))\n",
    "\n",
    "print(overall_ratings)"
   ]
  },
  {
   "cell_type": "code",
   "execution_count": 10,
   "metadata": {},
   "outputs": [
    {
     "name": "stdout",
     "output_type": "stream",
     "text": [
      "[[ 7.  1.  7.]\n",
      " [nan  2.  2.]\n",
      " [nan  8.  8.]\n",
      " [ 9.  3.  9.]\n",
      " [ 8.  9.  8.]\n",
      " [ 5.  2.  5.]\n",
      " [ 8.  2.  8.]\n",
      " [nan  6.  6.]\n",
      " [ 9.  2.  9.]\n",
      " [nan  5.  5.]]\n"
     ]
    }
   ],
   "source": [
    "# Course solution 1\n",
    "x1 = np.where(np.isnan(ratings[:, 0]), ratings[:, 1], ratings[:, 0])\n",
    "result1 = np.insert(arr = ratings, values = x1, axis = 1, obj = 2)\n",
    "\n",
    "print(result1)"
   ]
  },
  {
   "cell_type": "code",
   "execution_count": 12,
   "metadata": {},
   "outputs": [
    {
     "name": "stdout",
     "output_type": "stream",
     "text": [
      "[[ 7.  1.  7.]\n",
      " [nan  2.  2.]\n",
      " [nan  8.  8.]\n",
      " [ 9.  3.  9.]\n",
      " [ 8.  9.  8.]\n",
      " [ 5.  2.  5.]\n",
      " [ 8.  2.  8.]\n",
      " [nan  6.  6.]\n",
      " [ 9.  2.  9.]\n",
      " [nan  5.  5.]]\n"
     ]
    }
   ],
   "source": [
    "# Course solution 2\n",
    "x2 = np.where(np.isnan(ratings[:, 0]), ratings[:, 1], ratings[:, 0])\n",
    "result2 = np.hstack((ratings, x2[:, None])) # x2[:, None] converts to a 10x1 array\n",
    "\n",
    "print(result2)"
   ]
  }
 ],
 "metadata": {
  "kernelspec": {
   "display_name": "venv38",
   "language": "python",
   "name": "python3"
  },
  "language_info": {
   "codemirror_mode": {
    "name": "ipython",
    "version": 3
   },
   "file_extension": ".py",
   "mimetype": "text/x-python",
   "name": "python",
   "nbconvert_exporter": "python",
   "pygments_lexer": "ipython3",
   "version": "3.8.10"
  }
 },
 "nbformat": 4,
 "nbformat_minor": 2
}
