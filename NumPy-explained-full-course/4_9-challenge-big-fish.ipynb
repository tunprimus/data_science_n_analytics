{
 "cells": [
  {
   "cell_type": "markdown",
   "metadata": {},
   "source": [
    "## 4.9 Challenge: Big Fish"
   ]
  },
  {
   "cell_type": "markdown",
   "metadata": {},
   "source": [
    "Ten fish occupy a 5x5x5 grid of water. Each fish decides to move to a new (i,j,k) location given by the matrix below. If multiple fish end up occupying the same cell, the biggest fish eats the smaller fish. Determine which fish will survive."
   ]
  },
  {
   "cell_type": "code",
   "execution_count": 4,
   "metadata": {},
   "outputs": [],
   "source": [
    "import numpy as np"
   ]
  },
  {
   "cell_type": "code",
   "execution_count": 5,
   "metadata": {},
   "outputs": [],
   "source": [
    "locs = np.array([\n",
    "    [0, 0, 0],\n",
    "    [1, 1, 2],\n",
    "    [0, 0, 0],\n",
    "    [2, 1, 3],\n",
    "    [5, 5, 4],\n",
    "    [5, 0, 0],\n",
    "    [5, 0, 0],\n",
    "    [0, 0, 0],\n",
    "    [2, 1, 3],\n",
    "    [1, 3, 1],\n",
    "])"
   ]
  },
  {
   "cell_type": "code",
   "execution_count": 6,
   "metadata": {},
   "outputs": [
    {
     "name": "stdout",
     "output_type": "stream",
     "text": [
      "[-1.69870017  0.53799701 -0.22561399 -1.09020894  0.55391264 -1.50115445\n",
      "  0.44545933  1.3448172  -1.12364327  0.21216015]\n"
     ]
    }
   ],
   "source": [
    "generator = np.random.default_rng(1010)\n",
    "weights = generator.normal(size = 10)\n",
    "\n",
    "print(weights)"
   ]
  },
  {
   "cell_type": "code",
   "execution_count": 15,
   "metadata": {},
   "outputs": [
    {
     "name": "stdout",
     "output_type": "stream",
     "text": [
      "[7 4 1 6 9 2 3 8 5 0]\n"
     ]
    }
   ],
   "source": [
    "np.argsort(weights) # sort by weight - lightest to heaviest\n",
    "np.argsort(weights)[::-1] # reverse order\n",
    "sorted_fish = np.argsort(weights)[::-1]\n",
    "print(sorted_fish)\n",
    "\n",
    "locs[sorted_fish] # reorders the arrays in locs based on weight\n",
    "uniques, first_idxs = np.unique(locs[sorted_fish], axis = 0, return_index = True) # get the first unique indices\n",
    "print(uniques)\n",
    "print(first_idxs)\n",
    "\n",
    "survivors = sorted_fish[first_idxs]\n",
    "print(survivors)"
   ]
  }
 ],
 "metadata": {
  "kernelspec": {
   "display_name": "venv38",
   "language": "python",
   "name": "python3"
  },
  "language_info": {
   "codemirror_mode": {
    "name": "ipython",
    "version": 3
   },
   "file_extension": ".py",
   "mimetype": "text/x-python",
   "name": "python",
   "nbconvert_exporter": "python",
   "pygments_lexer": "ipython3",
   "version": "3.8.10"
  }
 },
 "nbformat": 4,
 "nbformat_minor": 2
}
