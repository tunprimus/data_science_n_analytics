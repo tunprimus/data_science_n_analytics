{
 "cells": [
  {
   "cell_type": "markdown",
   "metadata": {},
   "source": [
    "## 5.3 Challenge: Population Verification"
   ]
  },
  {
   "cell_type": "markdown",
   "metadata": {},
   "source": [
    "You manage a local department for the Census responsible for measuring the population of each block in the city where you live. Even though you could do it yourself, for each of the last five years, you have tasked this job to your subordinate, Jim. What Jim gives you each year is a 5x2x4 array of population estimates called *jim* where (i,j,k) represents Jim's population estimate for block (j,k) in year *i*.\n",
    "\n",
    "The thing is, you do not fully trust Jim's estimates because you see him spending an ungodly amount of time on Facebook. So, each year, you go behind his back and measure the population of two city blocks. After five years, you have the following data:\n",
    "\n",
    "- blocks, a 5x2x2 array indicating which blocks you measured each year, where (i,j) gives the coordinates for the *j*th block you measured in year *i*, and\n",
    "- pops, a corresponding 5x2 array with the population you measured for the *j*th block in year *i*.\n",
    "\n",
    "How many times was Jim's estimate at least 10% higher or lower than your estimate?"
   ]
  },
  {
   "cell_type": "code",
   "execution_count": 1,
   "metadata": {},
   "outputs": [],
   "source": [
    "import numpy as np"
   ]
  },
  {
   "cell_type": "code",
   "execution_count": 2,
   "metadata": {},
   "outputs": [
    {
     "name": "stdout",
     "output_type": "stream",
     "text": [
      "[[[106. 103.  92. 100.]\n",
      "  [ 94. 102.  94. 100.]]\n",
      "\n",
      " [[104.  96. 109.  96.]\n",
      "  [101. 104. 102.  92.]]\n",
      "\n",
      " [[102. 102. 108. 101.]\n",
      "  [ 91. 101. 106.  99.]]\n",
      "\n",
      " [[101.  98.  95. 102.]\n",
      "  [100. 101.  99.  93.]]\n",
      "\n",
      " [[107. 101. 104. 105.]\n",
      "  [102.  97. 101. 102.]]]\n"
     ]
    }
   ],
   "source": [
    "generator = np.random.default_rng(2357)\n",
    "jim = np.round(generator.normal(loc = 100, scale = 5, size = (5, 2, 4)))\n",
    "\n",
    "print(jim)"
   ]
  },
  {
   "cell_type": "code",
   "execution_count": 3,
   "metadata": {},
   "outputs": [],
   "source": [
    "blocks = np.array([\n",
    "    [[0, 2], [1, 3]],\n",
    "    [[1, 2], [0, 0]],\n",
    "    [[0, 0], [1, 2]],\n",
    "    [[1, 1], [0, 3]],\n",
    "    [[0, 1], [1, 0]],\n",
    "])"
   ]
  },
  {
   "cell_type": "code",
   "execution_count": 4,
   "metadata": {},
   "outputs": [],
   "source": [
    "pops = np.array([\n",
    "    [100, 105],\n",
    "    [110, 92],\n",
    "    [95, 99],\n",
    "    [89, 107],\n",
    "    [101, 98],\n",
    "])"
   ]
  },
  {
   "cell_type": "code",
   "execution_count": null,
   "metadata": {},
   "outputs": [],
   "source": [
    "error_factor = 0.1"
   ]
  },
  {
   "cell_type": "code",
   "execution_count": 5,
   "metadata": {},
   "outputs": [],
   "source": [
    "def count_jim_errors(jim, blocks, pops):\n",
    "    count = 0\n",
    "    for i in range(5):\n",
    "        for j in range(2):\n",
    "            measured_block = blocks[i][j]\n",
    "            jim_estimate = jim[i][j, pops[i][j]]\n",
    "            measured_population = pops[i][j]\n",
    "            if abs(jim_estimate - measured_population) / measured_population >= 0.1:\n",
    "                count += 1\n",
    "    return count"
   ]
  },
  {
   "cell_type": "code",
   "execution_count": 6,
   "metadata": {},
   "outputs": [
    {
     "ename": "IndexError",
     "evalue": "index 100 is out of bounds for axis 1 with size 4",
     "output_type": "error",
     "traceback": [
      "\u001b[0;31m---------------------------------------------------------------------------\u001b[0m",
      "\u001b[0;31mIndexError\u001b[0m                                Traceback (most recent call last)",
      "Input \u001b[0;32mIn [6]\u001b[0m, in \u001b[0;36m<cell line: 4>\u001b[0;34m()\u001b[0m\n\u001b[1;32m      2\u001b[0m     \u001b[38;5;28mprint\u001b[39m(count_jim_errors(jim, blocks, pops))\n\u001b[1;32m      4\u001b[0m \u001b[38;5;28;01mif\u001b[39;00m \u001b[38;5;18m__name__\u001b[39m \u001b[38;5;241m==\u001b[39m \u001b[38;5;124m'\u001b[39m\u001b[38;5;124m__main__\u001b[39m\u001b[38;5;124m'\u001b[39m:\n\u001b[0;32m----> 5\u001b[0m     \u001b[43mmain\u001b[49m\u001b[43m(\u001b[49m\u001b[43m)\u001b[49m\n",
      "Input \u001b[0;32mIn [6]\u001b[0m, in \u001b[0;36mmain\u001b[0;34m()\u001b[0m\n\u001b[1;32m      1\u001b[0m \u001b[38;5;28;01mdef\u001b[39;00m \u001b[38;5;21mmain\u001b[39m():\n\u001b[0;32m----> 2\u001b[0m     \u001b[38;5;28mprint\u001b[39m(\u001b[43mcount_jim_errors\u001b[49m\u001b[43m(\u001b[49m\u001b[43mjim\u001b[49m\u001b[43m,\u001b[49m\u001b[43m \u001b[49m\u001b[43mblocks\u001b[49m\u001b[43m,\u001b[49m\u001b[43m \u001b[49m\u001b[43mpops\u001b[49m\u001b[43m)\u001b[49m)\n",
      "Input \u001b[0;32mIn [5]\u001b[0m, in \u001b[0;36mcount_jim_errors\u001b[0;34m(jim, blocks, pops)\u001b[0m\n\u001b[1;32m      4\u001b[0m \u001b[38;5;28;01mfor\u001b[39;00m j \u001b[38;5;129;01min\u001b[39;00m \u001b[38;5;28mrange\u001b[39m(\u001b[38;5;241m2\u001b[39m):\n\u001b[1;32m      5\u001b[0m     measured_block \u001b[38;5;241m=\u001b[39m blocks[i][j]\n\u001b[0;32m----> 6\u001b[0m     jim_estimate \u001b[38;5;241m=\u001b[39m \u001b[43mjim\u001b[49m\u001b[43m[\u001b[49m\u001b[43mi\u001b[49m\u001b[43m]\u001b[49m\u001b[43m[\u001b[49m\u001b[43mj\u001b[49m\u001b[43m,\u001b[49m\u001b[43m \u001b[49m\u001b[43mpops\u001b[49m\u001b[43m[\u001b[49m\u001b[43mi\u001b[49m\u001b[43m]\u001b[49m\u001b[43m[\u001b[49m\u001b[43mj\u001b[49m\u001b[43m]\u001b[49m\u001b[43m]\u001b[49m\n\u001b[1;32m      7\u001b[0m     measured_population \u001b[38;5;241m=\u001b[39m pops[i][j]\n\u001b[1;32m      8\u001b[0m     \u001b[38;5;28;01mif\u001b[39;00m \u001b[38;5;28mabs\u001b[39m(jim_estimate \u001b[38;5;241m-\u001b[39m measured_population) \u001b[38;5;241m/\u001b[39m measured_population \u001b[38;5;241m>\u001b[39m\u001b[38;5;241m=\u001b[39m \u001b[38;5;241m0.1\u001b[39m:\n",
      "\u001b[0;31mIndexError\u001b[0m: index 100 is out of bounds for axis 1 with size 4"
     ]
    }
   ],
   "source": [
    "def main():\n",
    "    print(count_jim_errors(jim, blocks, pops))\n",
    "\n",
    "if __name__ == '__main__':\n",
    "    main()"
   ]
  }
 ],
 "metadata": {
  "kernelspec": {
   "display_name": "venv38",
   "language": "python",
   "name": "python3"
  },
  "language_info": {
   "codemirror_mode": {
    "name": "ipython",
    "version": 3
   },
   "file_extension": ".py",
   "mimetype": "text/x-python",
   "name": "python",
   "nbconvert_exporter": "python",
   "pygments_lexer": "ipython3",
   "version": "3.8.10"
  }
 },
 "nbformat": 4,
 "nbformat_minor": 2
}
