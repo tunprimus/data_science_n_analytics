{
 "cells": [
  {
   "cell_type": "markdown",
   "metadata": {},
   "source": [
    "## 5.5 Challenge: Game of Doors"
   ]
  },
  {
   "cell_type": "markdown",
   "metadata": {},
   "source": [
    "You are preparing for a game show where you play the following game. You are faced with four doors. Behind one door is cash money, and behind the other three doors is steaming pile of broccoli. If you pick the door with money, you get the option to play again at the risk of losing the money you have collected thus far. If you keep winning, you can play a maximum of three rounds before the game show hosts kick you off the show.\n",
    "\n",
    "You have some strategy ideas you would like to evaluate before you go on the show. So you hired an unpaid intern to scour through historical recordings of the show and log data on where prizes were located and the value of each prize. Your intern gets back to you with the following matrices:\n",
    "\n",
    "- prize_doors, a 5x3 array where element (i,j) gives the door hiding the prize in round *j* of the *i*th game, and\n",
    "- prizes, a 5x3 array where element (i,j) gives the prize amount in round *j* of the *i*th game\n",
    "\n",
    "Build a 5x3x4 matrix where (i,j,k) represents the prize behind door *k* of round *j* of game *i*."
   ]
  },
  {
   "cell_type": "code",
   "execution_count": 2,
   "metadata": {},
   "outputs": [],
   "source": [
    "import numpy as np"
   ]
  },
  {
   "cell_type": "code",
   "execution_count": 3,
   "metadata": {},
   "outputs": [],
   "source": [
    "prize_doors = np.array([\n",
    "    [1, 0, 2],\n",
    "    [0, 0, 1],\n",
    "    [3, 3, 1],\n",
    "    [1, 2, 0],\n",
    "    [2, 1,1 ]\n",
    "])"
   ]
  },
  {
   "cell_type": "code",
   "execution_count": 4,
   "metadata": {},
   "outputs": [],
   "source": [
    "prizes = np.array([\n",
    "    [100, 150, 500],\n",
    "    [200, 300, 250],\n",
    "    [150, 100, 325],\n",
    "    [425, 200, 100],\n",
    "    [200, 250, 300]\n",
    "])"
   ]
  },
  {
   "cell_type": "code",
   "execution_count": 10,
   "metadata": {},
   "outputs": [
    {
     "data": {
      "text/plain": [
       "' i = prize_doors[:, None]\\nprint(i)\\nj = prize_doors[None, :]\\nprint(j)\\n\\ncombo = np.concatenate((i, j, prizes)) '"
      ]
     },
     "execution_count": 10,
     "metadata": {},
     "output_type": "execute_result"
    }
   ],
   "source": [
    "\"\"\" i = prize_doors[:, None]\n",
    "print(i)\n",
    "j = prize_doors[None, :]\n",
    "print(j)\n",
    "\n",
    "combo = np.concatenate((i, j, prizes)) \"\"\""
   ]
  },
  {
   "cell_type": "code",
   "execution_count": 13,
   "metadata": {},
   "outputs": [
    {
     "name": "stdout",
     "output_type": "stream",
     "text": [
      "[[[  0. 100.   0.   0.]\n",
      "  [150.   0.   0.   0.]\n",
      "  [  0.   0. 500.   0.]]\n",
      "\n",
      " [[200.   0.   0.   0.]\n",
      "  [300.   0.   0.   0.]\n",
      "  [  0. 250.   0.   0.]]\n",
      "\n",
      " [[  0.   0.   0. 150.]\n",
      "  [  0.   0.   0. 100.]\n",
      "  [  0. 325.   0.   0.]]\n",
      "\n",
      " [[  0. 425.   0.   0.]\n",
      "  [  0.   0. 200.   0.]\n",
      "  [100.   0.   0.   0.]]\n",
      "\n",
      " [[  0.   0. 200.   0.]\n",
      "  [  0. 250.   0.   0.]\n",
      "  [  0. 300.   0.   0.]]]\n"
     ]
    }
   ],
   "source": [
    "answer = np.zeros([5, 3, 4])\n",
    "\n",
    "\"i = [:, None]\"\n",
    "\"j = [None, :]\"\n",
    "\n",
    "answer[np.arange(5)[:, None], np.arange(3)[None, :], prize_doors] = prizes\n",
    "\n",
    "print(answer)"
   ]
  },
  {
   "cell_type": "code",
   "execution_count": 15,
   "metadata": {},
   "outputs": [
    {
     "name": "stdout",
     "output_type": "stream",
     "text": [
      "[[[0. 0. 0. 0.]\n",
      "  [0. 0. 0. 0.]\n",
      "  [0. 0. 0. 0.]]\n",
      "\n",
      " [[0. 0. 0. 0.]\n",
      "  [0. 0. 0. 0.]\n",
      "  [0. 0. 0. 0.]]\n",
      "\n",
      " [[0. 0. 0. 0.]\n",
      "  [0. 0. 0. 0.]\n",
      "  [0. 0. 0. 0.]]\n",
      "\n",
      " [[0. 0. 0. 0.]\n",
      "  [0. 0. 0. 0.]\n",
      "  [0. 0. 0. 0.]]\n",
      "\n",
      " [[0. 0. 0. 0.]\n",
      "  [0. 0. 0. 0.]\n",
      "  [0. 0. 0. 0.]]]\n"
     ]
    }
   ],
   "source": [
    "answer = np.zeros([5, 3, 4])\n",
    "print(answer)"
   ]
  },
  {
   "cell_type": "code",
   "execution_count": 16,
   "metadata": {},
   "outputs": [
    {
     "data": {
      "text/plain": [
       "array([[0],\n",
       "       [1],\n",
       "       [2],\n",
       "       [3],\n",
       "       [4]])"
      ]
     },
     "execution_count": 16,
     "metadata": {},
     "output_type": "execute_result"
    }
   ],
   "source": [
    "np.arange(5)[:, None]"
   ]
  },
  {
   "cell_type": "code",
   "execution_count": 17,
   "metadata": {},
   "outputs": [
    {
     "data": {
      "text/plain": [
       "array([[0, 1, 2]])"
      ]
     },
     "execution_count": 17,
     "metadata": {},
     "output_type": "execute_result"
    }
   ],
   "source": [
    "np.arange(3)[None, :]"
   ]
  }
 ],
 "metadata": {
  "kernelspec": {
   "display_name": "venv38",
   "language": "python",
   "name": "python3"
  },
  "language_info": {
   "codemirror_mode": {
    "name": "ipython",
    "version": 3
   },
   "file_extension": ".py",
   "mimetype": "text/x-python",
   "name": "python",
   "nbconvert_exporter": "python",
   "pygments_lexer": "ipython3",
   "version": "3.8.10"
  }
 },
 "nbformat": 4,
 "nbformat_minor": 2
}
