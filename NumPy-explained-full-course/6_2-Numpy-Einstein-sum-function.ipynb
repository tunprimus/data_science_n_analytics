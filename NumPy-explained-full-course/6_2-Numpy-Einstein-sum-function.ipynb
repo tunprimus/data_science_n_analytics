{
 "cells": [
  {
   "cell_type": "markdown",
   "metadata": {},
   "source": [
    "# 6.1 NumPy Einstein Sum Function"
   ]
  },
  {
   "cell_type": "code",
   "execution_count": 1,
   "metadata": {},
   "outputs": [],
   "source": [
    "import numpy as np"
   ]
  },
  {
   "cell_type": "code",
   "execution_count": 2,
   "metadata": {},
   "outputs": [],
   "source": [
    "A = np.array([0, 1, 2, 3])\n",
    "\n",
    "B = np.array([4, 5, 6, 7])"
   ]
  },
  {
   "cell_type": "code",
   "execution_count": 9,
   "metadata": {},
   "outputs": [
    {
     "data": {
      "text/plain": [
       "' A = [0 1 2 3]\\n\\nB = [4 5 6 7] '"
      ]
     },
     "execution_count": 9,
     "metadata": {},
     "output_type": "execute_result"
    }
   ],
   "source": [
    "\"\"\" A = [0 1 2 3]\n",
    "\n",
    "B = [4 5 6 7] \"\"\""
   ]
  },
  {
   "cell_type": "code",
   "execution_count": 10,
   "metadata": {},
   "outputs": [],
   "source": [
    "A = [0, 1, 2, 3]\n",
    "\n",
    "B = [4, 5, 6, 7]"
   ]
  },
  {
   "cell_type": "code",
   "execution_count": 11,
   "metadata": {},
   "outputs": [
    {
     "data": {
      "text/plain": [
       "array([ 0, 22, 44, 66])"
      ]
     },
     "execution_count": 11,
     "metadata": {},
     "output_type": "execute_result"
    }
   ],
   "source": [
    "np.einsum(\"i, j->i\", A, B)"
   ]
  },
  {
   "cell_type": "markdown",
   "metadata": {},
   "source": [
    "### Pseudocode\n",
    "\n",
    "Initialise output as an array of 0s the same size as A\n",
    "\n",
    "- for each i:\n",
    "- - for each j:\n",
    "- - - output[i] += A[i] * B[j]"
   ]
  },
  {
   "cell_type": "markdown",
   "metadata": {},
   "source": [
    "\"i, j->i\" means subscript string\n",
    "\n",
    "- first i - subscript for A axis\n",
    "- j - subscript for B axis\n",
    "- ->i - subscript for output axis\n",
    "\n",
    "Everything is 1d."
   ]
  },
  {
   "cell_type": "code",
   "execution_count": 12,
   "metadata": {},
   "outputs": [
    {
     "data": {
      "text/plain": [
       "132"
      ]
     },
     "execution_count": 12,
     "metadata": {},
     "output_type": "execute_result"
    }
   ],
   "source": [
    "np.einsum(\"i, j->\", A, B)"
   ]
  },
  {
   "cell_type": "markdown",
   "metadata": {},
   "source": [
    "### Pseudocode\n",
    "\n",
    "Initialise output as 0\n",
    "\n",
    "- for each i:\n",
    "- - for each j:\n",
    "- - - output += A[i] * B[j]\n",
    "\n",
    "Output has 0 dimension"
   ]
  },
  {
   "cell_type": "code",
   "execution_count": 13,
   "metadata": {},
   "outputs": [
    {
     "data": {
      "text/plain": [
       "array([ 0,  5, 12, 21])"
      ]
     },
     "execution_count": 13,
     "metadata": {},
     "output_type": "execute_result"
    }
   ],
   "source": [
    "np.einsum(\"z, z->z\", A, B)"
   ]
  },
  {
   "cell_type": "markdown",
   "metadata": {},
   "source": [
    "### Pseudocode\n",
    "\n",
    "Initialise output as an array of 0s the same size as A (and B)\n",
    "\n",
    "- for each z:\n",
    "- - output[z] += A[z] * B[z]\n",
    "\n",
    "Similar to A * B"
   ]
  },
  {
   "cell_type": "code",
   "execution_count": 14,
   "metadata": {},
   "outputs": [
    {
     "data": {
      "text/plain": [
       "array([[ 0,  0,  0,  0],\n",
       "       [ 4,  5,  6,  7],\n",
       "       [ 8, 10, 12, 14],\n",
       "       [12, 15, 18, 21]])"
      ]
     },
     "execution_count": 14,
     "metadata": {},
     "output_type": "execute_result"
    }
   ],
   "source": [
    "np.einsum(\"s, t->st\", A, B)"
   ]
  },
  {
   "cell_type": "markdown",
   "metadata": {},
   "source": [
    "### Pseudocode\n",
    "\n",
    "Initialise output as a 4x4 array of 0s\n",
    "\n",
    "- for each s:\n",
    "- - for each t:\n",
    "- - - output[st] += A[s] * B[t]"
   ]
  },
  {
   "cell_type": "code",
   "execution_count": 15,
   "metadata": {},
   "outputs": [],
   "source": [
    "C = [\n",
    "    [0, 1],\n",
    "    [2, 3]\n",
    "]\n",
    "\n",
    "D = [\n",
    "    [4, 5],\n",
    "    [6, 7]\n",
    "]"
   ]
  },
  {
   "cell_type": "code",
   "execution_count": 16,
   "metadata": {},
   "outputs": [
    {
     "data": {
      "text/plain": [
       "37"
      ]
     },
     "execution_count": 16,
     "metadata": {},
     "output_type": "execute_result"
    }
   ],
   "source": [
    "np.einsum(\"ij, ji ->\", C, D)"
   ]
  },
  {
   "cell_type": "markdown",
   "metadata": {},
   "source": [
    "- C has two axes: i and j\n",
    "- D has two axes: j and i\n",
    "- output has 0 axis"
   ]
  },
  {
   "cell_type": "markdown",
   "metadata": {},
   "source": [
    "### Pseudocode\n",
    "\n",
    "Initialise output as 0\n",
    "\n",
    "- for each i:\n",
    "- - for each j:\n",
    "- - - output += C[ij] * D[ji]\n",
    "\n",
    "Appears same as: np.sum(C * D.T)\n",
    "\n",
    "but einsum only visits each element once whereas np.sum(C * D.T) visit each element twice (first when it does the multiplication and second when it does the sum).\n",
    "\n",
    "np.sum(C * D.T) also creates a temporary array that takes up memory prior to summation."
   ]
  }
 ],
 "metadata": {
  "kernelspec": {
   "display_name": "venv38",
   "language": "python",
   "name": "python3"
  },
  "language_info": {
   "codemirror_mode": {
    "name": "ipython",
    "version": 3
   },
   "file_extension": ".py",
   "mimetype": "text/x-python",
   "name": "python",
   "nbconvert_exporter": "python",
   "pygments_lexer": "ipython3",
   "version": "3.8.10"
  }
 },
 "nbformat": 4,
 "nbformat_minor": 2
}
