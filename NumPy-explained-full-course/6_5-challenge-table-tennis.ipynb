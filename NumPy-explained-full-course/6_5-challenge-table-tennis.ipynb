{
 "cells": [
  {
   "cell_type": "markdown",
   "metadata": {},
   "source": [
    "## 6.5 Challenge: Table Tennis"
   ]
  },
  {
   "cell_type": "markdown",
   "metadata": {},
   "source": [
    "After a series of poor life choices, you find yourself managing a recreational table tennis league. There are 10 participants and in an effort to make the first round of match-ups as exciting as possible, you develop a model that predicts the score difference for every possible pair of players. That is, you produce a 10x10 matrix where (i,j) represents your prediction for player _i_'s score minus player _j_'s score if they were to compete. Given this matrix, determine the \"best\" match-ups that minimise the sum of squared point differentials."
   ]
  },
  {
   "cell_type": "code",
   "execution_count": 1,
   "metadata": {},
   "outputs": [],
   "source": [
    "import numpy as np"
   ]
  },
  {
   "cell_type": "code",
   "execution_count": 2,
   "metadata": {},
   "outputs": [
    {
     "name": "stdout",
     "output_type": "stream",
     "text": [
      "[[   nan  -9.48  14.15  11.27  -5.65   3.33  10.95  -2.15   5.34  -2.83]\n",
      " [  9.48    nan   4.86  -8.61   7.82 -11.29  13.24   4.92   2.86   9.04]\n",
      " [-14.15 -11.27    nan  12.28  -2.41   6.04  -5.16  -3.87 -12.81   1.79]\n",
      " [  5.65  -3.33 -10.95    nan -13.64   0.     2.24  -3.61  -7.73   0.08]\n",
      " [  2.15  -5.34   2.83  -4.86    nan  -0.88  -8.57   2.56  -7.03  -6.33]\n",
      " [  8.61  -7.82  11.29 -13.24  -4.92    nan -12.96 -12.82 -14.04  14.56]\n",
      " [ -2.86  -9.04 -12.28   2.41  -6.04   5.16    nan -10.91 -14.44 -13.72]\n",
      " [  3.87  12.81  -1.79  13.64  -0.    -2.24   3.61    nan  10.54 -14.18]\n",
      " [  7.73  -0.08   0.88   8.57  -2.56   7.03   6.33  12.96    nan -11.7 ]\n",
      " [ 12.82  14.04 -14.56  10.91  14.44  13.72 -10.54  14.18  11.7     nan]]\n"
     ]
    }
   ],
   "source": [
    "generator = np.random.default_rng(0)\n",
    "score_diffs = np.round(generator.uniform(low=-15, high=15, size=(10, 10)), 2)\n",
    "np.fill_diagonal(score_diffs, np.nan)\n",
    "score_diffs[np.triu_indices(10, k=1)] = -score_diffs[np.tril_indices(10, k=-1)]\n",
    "\n",
    "print(score_diffs)"
   ]
  },
  {
   "cell_type": "code",
   "execution_count": 4,
   "metadata": {},
   "outputs": [
    {
     "data": {
      "text/plain": [
       "array([58.31353333, 79.81028395, 93.61565432, 90.97413333, 60.22504444,\n",
       "       44.07958765, 81.37335802, 79.5144    , 98.96746914, 90.10388395])"
      ]
     },
     "execution_count": 4,
     "metadata": {},
     "output_type": "execute_result"
    }
   ],
   "source": [
    "np.nanvar(a=score_diffs, axis=0)"
   ]
  },
  {
   "cell_type": "code",
   "execution_count": 5,
   "metadata": {},
   "outputs": [
    {
     "data": {
      "text/plain": [
       "array([ 61.34562222,  61.06434321,  70.23755802,  35.33195556,\n",
       "        18.10546667, 121.61655062,  44.68143951,  69.10217284,\n",
       "        48.9328    , 115.98137284])"
      ]
     },
     "execution_count": 5,
     "metadata": {},
     "output_type": "execute_result"
    }
   ],
   "source": [
    "np.nanvar(a=score_diffs, axis=1)"
   ]
  },
  {
   "cell_type": "code",
   "execution_count": 8,
   "metadata": {},
   "outputs": [
    {
     "name": "stdout",
     "output_type": "stream",
     "text": [
      "[[0 3 1 2 4]\n",
      " [7 6 8 9 5]]\n"
     ]
    }
   ],
   "source": [
    "# Build all permutations of [0, 1, 2, ... 9]\n",
    "from itertools import permutations\n",
    "perms = np.array(list(permutations([0, 1, 2, 3, 4, 5, 6, 7, 8, 9])))\n",
    "\n",
    "# Partition into two matrices representing player 1 and player 2\n",
    "p1 = perms[:, [0, 2, 4, 6, 8]]\n",
    "p2 = perms[:, [1, 3, 5, 7, 9]]\n",
    "\n",
    "# Only retain match-ups where player 1 < player 2\n",
    "keeps = np.all(p1 < p2, axis=1)\n",
    "p1 = p1[keeps]\n",
    "p2 = p2[keeps]\n",
    "\n",
    "# Build a matrix where (i, j) gives the expected point differential for jth pairing in the ith schedule\n",
    "point_diffs = score_diffs[p1, p2]\n",
    "\n",
    "# Calculate sum of squared point differentials\n",
    "schedules_scores = np.sum(point_diffs**2, axis=1)\n",
    "\n",
    "# Identify the best schedule\n",
    "best_idxs = np.argmin(schedules_scores)\n",
    "best_schedule = np.vstack((p1[best_idxs], p2[best_idxs]))\n",
    "\n",
    "print(best_schedule)"
   ]
  },
  {
   "cell_type": "code",
   "execution_count": 9,
   "metadata": {},
   "outputs": [
    {
     "name": "stdout",
     "output_type": "stream",
     "text": [
      "[[0 1 2 ... 7 8 9]\n",
      " [0 1 2 ... 7 9 8]\n",
      " [0 1 2 ... 8 7 9]\n",
      " ...\n",
      " [9 8 7 ... 1 2 0]\n",
      " [9 8 7 ... 2 0 1]\n",
      " [9 8 7 ... 2 1 0]]\n"
     ]
    }
   ],
   "source": [
    "perms = np.array(list(permutations([0, 1, 2, 3, 4, 5, 6, 7, 8, 9]))) # 10! permutations\n",
    "print(perms)"
   ]
  },
  {
   "cell_type": "code",
   "execution_count": 10,
   "metadata": {},
   "outputs": [
    {
     "name": "stdout",
     "output_type": "stream",
     "text": [
      "[[0 2 4 6 8]\n",
      " [0 2 4 6 9]\n",
      " [0 2 4 6 7]\n",
      " ...\n",
      " [9 7 5 3 2]\n",
      " [9 7 5 3 0]\n",
      " [9 7 5 3 1]]\n"
     ]
    }
   ],
   "source": [
    "p1 = perms[:, [0, 2, 4, 6, 8]]\n",
    "print(p1)"
   ]
  },
  {
   "cell_type": "code",
   "execution_count": 14,
   "metadata": {},
   "outputs": [
    {
     "name": "stdout",
     "output_type": "stream",
     "text": [
      "[[1 3 5 7 9]\n",
      " [1 3 5 7 8]\n",
      " [1 3 5 8 9]\n",
      " ...\n",
      " [8 6 4 1 0]\n",
      " [8 6 4 2 1]\n",
      " [8 6 4 2 0]]\n"
     ]
    }
   ],
   "source": [
    "p2 = perms[:, [1, 3, 5, 7, 9]]\n",
    "print(p2)"
   ]
  },
  {
   "cell_type": "code",
   "execution_count": 15,
   "metadata": {},
   "outputs": [
    {
     "name": "stdout",
     "output_type": "stream",
     "text": [
      "[ True False  True ... False False False]\n"
     ]
    }
   ],
   "source": [
    "keeps = np.all(p1 < p2, axis=1)\n",
    "print(keeps)"
   ]
  },
  {
   "cell_type": "code",
   "execution_count": 16,
   "metadata": {},
   "outputs": [
    {
     "name": "stdout",
     "output_type": "stream",
     "text": [
      "[[0 2 4 6 8]\n",
      " [0 2 4 6 7]\n",
      " [0 2 4 6 7]\n",
      " ...\n",
      " [8 6 4 1 0]\n",
      " [8 6 4 1 0]\n",
      " [8 6 4 2 0]]\n"
     ]
    }
   ],
   "source": [
    "p1 = p1[keeps] # 10! / 2 unique permutations\n",
    "print(p1)"
   ]
  },
  {
   "cell_type": "code",
   "execution_count": 17,
   "metadata": {},
   "outputs": [
    {
     "name": "stdout",
     "output_type": "stream",
     "text": [
      "[[1 3 5 7 9]\n",
      " [1 3 5 8 9]\n",
      " [1 3 5 9 8]\n",
      " ...\n",
      " [9 7 5 2 3]\n",
      " [9 7 5 3 2]\n",
      " [9 7 5 3 1]]\n"
     ]
    }
   ],
   "source": [
    "p2 = p2[keeps]\n",
    "print(p2)"
   ]
  },
  {
   "cell_type": "code",
   "execution_count": 18,
   "metadata": {},
   "outputs": [
    {
     "name": "stdout",
     "output_type": "stream",
     "text": [
      "[[ -9.48  12.28  -0.88 -10.91 -11.7 ]\n",
      " [ -9.48  12.28  -0.88 -14.44 -14.18]\n",
      " [ -9.48  12.28  -0.88 -13.72  10.54]\n",
      " ...\n",
      " [-11.7  -10.91  -0.88   4.86  11.27]\n",
      " [-11.7  -10.91  -0.88  -8.61  14.15]\n",
      " [-11.7  -10.91  -0.88  12.28  -9.48]]\n"
     ]
    }
   ],
   "source": [
    "point_diffs = score_diffs[p1, p2]\n",
    "print(point_diffs)"
   ]
  },
  {
   "cell_type": "code",
   "execution_count": 19,
   "metadata": {},
   "outputs": [
    {
     "name": "stdout",
     "output_type": "stream",
     "text": [
      "[497.3613 651.0292 540.7732 ... 407.325  531.0471 497.3613]\n"
     ]
    }
   ],
   "source": [
    "schedules_scores = np.sum(point_diffs**2, axis=1) # along the columns\n",
    "print(schedules_scores)"
   ]
  },
  {
   "cell_type": "code",
   "execution_count": 20,
   "metadata": {},
   "outputs": [
    {
     "name": "stdout",
     "output_type": "stream",
     "text": [
      "16490\n"
     ]
    }
   ],
   "source": [
    "best_idxs = np.argmin(schedules_scores)\n",
    "print(best_idxs)"
   ]
  },
  {
   "cell_type": "code",
   "execution_count": 21,
   "metadata": {},
   "outputs": [
    {
     "name": "stdout",
     "output_type": "stream",
     "text": [
      "[[0 3 1 2 4]\n",
      " [7 6 8 9 5]]\n"
     ]
    }
   ],
   "source": [
    "# Player top vs player bottom\n",
    "best_schedule = np.vstack((p1[best_idxs], p2[best_idxs]))\n",
    "print(best_schedule)"
   ]
  }
 ],
 "metadata": {
  "kernelspec": {
   "display_name": "venv38",
   "language": "python",
   "name": "python3"
  },
  "language_info": {
   "codemirror_mode": {
    "name": "ipython",
    "version": 3
   },
   "file_extension": ".py",
   "mimetype": "text/x-python",
   "name": "python",
   "nbconvert_exporter": "python",
   "pygments_lexer": "ipython3",
   "version": "3.8.10"
  }
 },
 "nbformat": 4,
 "nbformat_minor": 2
}
