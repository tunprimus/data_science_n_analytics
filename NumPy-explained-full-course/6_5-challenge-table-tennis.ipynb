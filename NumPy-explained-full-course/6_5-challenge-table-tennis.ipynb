version https://git-lfs.github.com/spec/v1
oid sha256:363f745b631f4a505e97a67c5bacaae0a3ed6ebd2a2ad7831f78f2976aa189ba
size 9077
