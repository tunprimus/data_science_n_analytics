{
 "cells": [
  {
   "cell_type": "markdown",
   "metadata": {},
   "source": [
    "## 6.6 Challenge: Where is Waldo"
   ]
  },
  {
   "cell_type": "markdown",
   "metadata": {},
   "source": [
    "Given a 1-million element array where each element is a random character in a-z, identify the starting index of every sequence that spells 'waldo'.\n",
    "\n",
    "**Twist** - include sequences where 4 of the 5 characters match (e.g. 'wafdo' and 'xaldo' but not 'wadlo')."
   ]
  },
  {
   "cell_type": "code",
   "execution_count": 8,
   "metadata": {},
   "outputs": [],
   "source": [
    "import numpy as np\n",
    "import string"
   ]
  },
  {
   "cell_type": "code",
   "execution_count": 9,
   "metadata": {},
   "outputs": [
    {
     "name": "stdout",
     "output_type": "stream",
     "text": [
      "['a' 'r' 'p' 'b' 'x' 'f' 'g' 'e' 'i' 'e' 'j' 'v' 'l' 'y' 'l' 'h' 'u' 'v'\n",
      " 'w' 'x']\n"
     ]
    }
   ],
   "source": [
    "generator = np.random.default_rng(123)\n",
    "chars = generator.choice(list(string.ascii_lowercase), size=10**6, replace=True)\n",
    "\n",
    "print(chars[:20])"
   ]
  },
  {
   "cell_type": "code",
   "execution_count": 26,
   "metadata": {},
   "outputs": [],
   "source": [
    "waldo = np.array([\"w\", \"a\", \"l\", \"d\", \"o\"], dtype=\"<U1\")"
   ]
  },
  {
   "cell_type": "code",
   "execution_count": 27,
   "metadata": {},
   "outputs": [
    {
     "ename": "ValueError",
     "evalue": "shape mismatch: objects cannot be broadcast to a single shape.  Mismatch is between arg 0 with shape (1000000,) and arg 1 with shape (5,).",
     "output_type": "error",
     "traceback": [
      "\u001b[0;31m---------------------------------------------------------------------------\u001b[0m",
      "\u001b[0;31mValueError\u001b[0m                                Traceback (most recent call last)",
      "Input \u001b[0;32mIn [27]\u001b[0m, in \u001b[0;36m<cell line: 1>\u001b[0;34m()\u001b[0m\n\u001b[0;32m----> 1\u001b[0m \u001b[43mnp\u001b[49m\u001b[38;5;241;43m.\u001b[39;49m\u001b[43mchararray\u001b[49m\u001b[38;5;241;43m.\u001b[39;49m\u001b[43mfind\u001b[49m\u001b[43m(\u001b[49m\u001b[43mchars\u001b[49m\u001b[43m,\u001b[49m\u001b[43m \u001b[49m\u001b[43mwaldo\u001b[49m\u001b[43m)\u001b[49m\n",
      "File \u001b[0;32m~/.local/lib/python3.8/site-packages/numpy/core/defchararray.py:2337\u001b[0m, in \u001b[0;36mchararray.find\u001b[0;34m(self, sub, start, end)\u001b[0m\n\u001b[1;32m   2327\u001b[0m \u001b[38;5;28;01mdef\u001b[39;00m \u001b[38;5;21mfind\u001b[39m(\u001b[38;5;28mself\u001b[39m, sub, start\u001b[38;5;241m=\u001b[39m\u001b[38;5;241m0\u001b[39m, end\u001b[38;5;241m=\u001b[39m\u001b[38;5;28;01mNone\u001b[39;00m):\n\u001b[1;32m   2328\u001b[0m     \u001b[38;5;124;03m\"\"\"\u001b[39;00m\n\u001b[1;32m   2329\u001b[0m \u001b[38;5;124;03m    For each element, return the lowest index in the string where\u001b[39;00m\n\u001b[1;32m   2330\u001b[0m \u001b[38;5;124;03m    substring `sub` is found.\u001b[39;00m\n\u001b[0;32m   (...)\u001b[0m\n\u001b[1;32m   2335\u001b[0m \n\u001b[1;32m   2336\u001b[0m \u001b[38;5;124;03m    \"\"\"\u001b[39;00m\n\u001b[0;32m-> 2337\u001b[0m     \u001b[38;5;28;01mreturn\u001b[39;00m \u001b[43mfind\u001b[49m\u001b[43m(\u001b[49m\u001b[38;5;28;43mself\u001b[39;49m\u001b[43m,\u001b[49m\u001b[43m \u001b[49m\u001b[43msub\u001b[49m\u001b[43m,\u001b[49m\u001b[43m \u001b[49m\u001b[43mstart\u001b[49m\u001b[43m,\u001b[49m\u001b[43m \u001b[49m\u001b[43mend\u001b[49m\u001b[43m)\u001b[49m\n",
      "File \u001b[0;32m<__array_function__ internals>:200\u001b[0m, in \u001b[0;36mfind\u001b[0;34m(*args, **kwargs)\u001b[0m\n",
      "File \u001b[0;32m~/.local/lib/python3.8/site-packages/numpy/core/defchararray.py:766\u001b[0m, in \u001b[0;36mfind\u001b[0;34m(a, sub, start, end)\u001b[0m\n\u001b[1;32m    728\u001b[0m \u001b[38;5;129m@array_function_dispatch\u001b[39m(_count_dispatcher)\n\u001b[1;32m    729\u001b[0m \u001b[38;5;28;01mdef\u001b[39;00m \u001b[38;5;21mfind\u001b[39m(a, sub, start\u001b[38;5;241m=\u001b[39m\u001b[38;5;241m0\u001b[39m, end\u001b[38;5;241m=\u001b[39m\u001b[38;5;28;01mNone\u001b[39;00m):\n\u001b[1;32m    730\u001b[0m     \u001b[38;5;124;03m\"\"\"\u001b[39;00m\n\u001b[1;32m    731\u001b[0m \u001b[38;5;124;03m    For each element, return the lowest index in the string where\u001b[39;00m\n\u001b[1;32m    732\u001b[0m \u001b[38;5;124;03m    substring `sub` is found.\u001b[39;00m\n\u001b[0;32m   (...)\u001b[0m\n\u001b[1;32m    764\u001b[0m \n\u001b[1;32m    765\u001b[0m \u001b[38;5;124;03m    \"\"\"\u001b[39;00m\n\u001b[0;32m--> 766\u001b[0m     \u001b[38;5;28;01mreturn\u001b[39;00m \u001b[43m_vec_string\u001b[49m\u001b[43m(\u001b[49m\n\u001b[1;32m    767\u001b[0m \u001b[43m        \u001b[49m\u001b[43ma\u001b[49m\u001b[43m,\u001b[49m\u001b[43m \u001b[49m\u001b[43mint_\u001b[49m\u001b[43m,\u001b[49m\u001b[43m \u001b[49m\u001b[38;5;124;43m'\u001b[39;49m\u001b[38;5;124;43mfind\u001b[39;49m\u001b[38;5;124;43m'\u001b[39;49m\u001b[43m,\u001b[49m\u001b[43m \u001b[49m\u001b[43m[\u001b[49m\u001b[43msub\u001b[49m\u001b[43m,\u001b[49m\u001b[43m \u001b[49m\u001b[43mstart\u001b[49m\u001b[43m]\u001b[49m\u001b[43m \u001b[49m\u001b[38;5;241;43m+\u001b[39;49m\u001b[43m \u001b[49m\u001b[43m_clean_args\u001b[49m\u001b[43m(\u001b[49m\u001b[43mend\u001b[49m\u001b[43m)\u001b[49m\u001b[43m)\u001b[49m\n",
      "\u001b[0;31mValueError\u001b[0m: shape mismatch: objects cannot be broadcast to a single shape.  Mismatch is between arg 0 with shape (1000000,) and arg 1 with shape (5,)."
     ]
    }
   ],
   "source": [
    "np.chararray.find(chars, waldo)"
   ]
  },
  {
   "cell_type": "code",
   "execution_count": null,
   "metadata": {},
   "outputs": [
    {
     "data": {
      "text/plain": [
       "array([-1, -1, -1, ..., -1, -1, -1])"
      ]
     },
     "execution_count": 22,
     "metadata": {},
     "output_type": "execute_result"
    }
   ],
   "source": [
    "np.chararray.find(chars, \"waldo\")"
   ]
  },
  {
   "cell_type": "code",
   "execution_count": 31,
   "metadata": {},
   "outputs": [
    {
     "name": "stdout",
     "output_type": "stream",
     "text": [
      "[ 15063 142002 154213 177190 330101 335422 348645 415541 447457 505677\n",
      " 669313 673093 726243 879558 946156]\n"
     ]
    }
   ],
   "source": [
    "windows = np.lib.stride_tricks.as_strided(\n",
    "    x = chars,\n",
    "    shape = (len(chars) - (5-1), 5),\n",
    "    strides = (chars.strides[0], chars.strides[0])\n",
    ")\n",
    "waldo = np.array([\"w\", \"a\", \"l\", \"d\", \"o\"], dtype=\"<U1\")\n",
    "start_idxs = np.where((windows == waldo).sum(axis=1) >= 4)[0]\n",
    "print(start_idxs)"
   ]
  },
  {
   "cell_type": "code",
   "execution_count": 32,
   "metadata": {},
   "outputs": [
    {
     "name": "stdout",
     "output_type": "stream",
     "text": [
      "[['a' 'r' 'p' 'b' 'x']\n",
      " ['r' 'p' 'b' 'x' 'f']\n",
      " ['p' 'b' 'x' 'f' 'g']\n",
      " ...\n",
      " ['y' 'a' 'b' 'o' 'k']\n",
      " ['a' 'b' 'o' 'k' 'a']\n",
      " ['b' 'o' 'k' 'a' 'z']]\n"
     ]
    }
   ],
   "source": [
    "# Five character sequences from the chars array\n",
    "print(windows)"
   ]
  },
  {
   "cell_type": "code",
   "execution_count": 33,
   "metadata": {},
   "outputs": [
    {
     "name": "stdout",
     "output_type": "stream",
     "text": [
      "['w' 'a' 'l' 'd' 'o']\n"
     ]
    }
   ],
   "source": [
    "print(waldo)"
   ]
  },
  {
   "cell_type": "code",
   "execution_count": 34,
   "metadata": {},
   "outputs": [
    {
     "data": {
      "text/plain": [
       "array([[False, False, False, False, False],\n",
       "       [False, False, False, False, False],\n",
       "       [False, False, False, False, False],\n",
       "       ...,\n",
       "       [False,  True, False, False, False],\n",
       "       [False, False, False, False, False],\n",
       "       [False, False, False, False, False]])"
      ]
     },
     "execution_count": 34,
     "metadata": {},
     "output_type": "execute_result"
    }
   ],
   "source": [
    "windows == waldo"
   ]
  },
  {
   "cell_type": "code",
   "execution_count": 36,
   "metadata": {},
   "outputs": [
    {
     "data": {
      "text/plain": [
       "(array([ 15063, 142002, 154213, 177190, 330101, 335422, 348645, 415541,\n",
       "        447457, 505677, 669313, 673093, 726243, 879558, 946156]),)"
      ]
     },
     "execution_count": 36,
     "metadata": {},
     "output_type": "execute_result"
    }
   ],
   "source": [
    "# Interested in rows where at least four values are True\n",
    "np.where((windows == waldo).sum(axis=1) >= 4)"
   ]
  },
  {
   "cell_type": "code",
   "execution_count": 37,
   "metadata": {},
   "outputs": [
    {
     "data": {
      "text/plain": [
       "array([ 15063, 142002, 154213, 177190, 330101, 335422, 348645, 415541,\n",
       "       447457, 505677, 669313, 673093, 726243, 879558, 946156])"
      ]
     },
     "execution_count": 37,
     "metadata": {},
     "output_type": "execute_result"
    }
   ],
   "source": [
    "# Only want the first element of the above tuple\n",
    "np.where((windows == waldo).sum(axis=1) >= 4)[0]"
   ]
  },
  {
   "cell_type": "markdown",
   "metadata": {},
   "source": [
    "##### Validation"
   ]
  },
  {
   "cell_type": "code",
   "execution_count": 38,
   "metadata": {},
   "outputs": [
    {
     "name": "stdout",
     "output_type": "stream",
     "text": [
      "waldl\n",
      "walio\n",
      "walfo\n",
      "waudo\n",
      "walmo\n",
      "wardo\n",
      "wtldo\n",
      "faldo\n",
      "zaldo\n",
      "wpldo\n",
      "waldd\n",
      "wxldo\n",
      "qaldo\n",
      "wakdo\n",
      "kaldo\n"
     ]
    }
   ],
   "source": [
    "for idx in start_idxs:\n",
    "    print(\"\".join(chars[idx:(idx + 5)]))"
   ]
  }
 ],
 "metadata": {
  "kernelspec": {
   "display_name": "venv38",
   "language": "python",
   "name": "python3"
  },
  "language_info": {
   "codemirror_mode": {
    "name": "ipython",
    "version": 3
   },
   "file_extension": ".py",
   "mimetype": "text/x-python",
   "name": "python",
   "nbconvert_exporter": "python",
   "pygments_lexer": "ipython3",
   "version": "3.8.10"
  }
 },
 "nbformat": 4,
 "nbformat_minor": 2
}
