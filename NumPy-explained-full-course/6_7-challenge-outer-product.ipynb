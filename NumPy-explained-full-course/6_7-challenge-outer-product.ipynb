{
 "cells": [
  {
   "cell_type": "markdown",
   "metadata": {},
   "source": [
    "## 6.7 Challenge: Outer Product"
   ]
  },
  {
   "cell_type": "markdown",
   "metadata": {},
   "source": [
    "Calculate the element-wise outer product of two matrices, A and B."
   ]
  },
  {
   "cell_type": "code",
   "execution_count": 2,
   "metadata": {},
   "outputs": [],
   "source": [
    "import numpy as np"
   ]
  },
  {
   "cell_type": "code",
   "execution_count": 4,
   "metadata": {},
   "outputs": [
    {
     "name": "stdout",
     "output_type": "stream",
     "text": [
      "[[ 0  1  2]\n",
      " [ 3  4  5]\n",
      " [ 6  7  8]\n",
      " [ 9 10 11]\n",
      " [12 13 14]\n",
      " [15 16 17]\n",
      " [18 19 20]\n",
      " [21 22 23]\n",
      " [24 25 26]\n",
      " [27 28 29]]\n"
     ]
    }
   ],
   "source": [
    "A = np.arange(10*3).reshape((10,3))\n",
    "print(A)"
   ]
  },
  {
   "cell_type": "code",
   "execution_count": 5,
   "metadata": {},
   "outputs": [
    {
     "name": "stdout",
     "output_type": "stream",
     "text": [
      "[[ 0  1  2  3  4]\n",
      " [ 5  6  7  8  9]\n",
      " [10 11 12 13 14]\n",
      " [15 16 17 18 19]\n",
      " [20 21 22 23 24]\n",
      " [25 26 27 28 29]\n",
      " [30 31 32 33 34]\n",
      " [35 36 37 38 39]\n",
      " [40 41 42 43 44]\n",
      " [45 46 47 48 49]]\n"
     ]
    }
   ],
   "source": [
    "B = np.arange(10*5).reshape((10,5))\n",
    "print(B)"
   ]
  },
  {
   "cell_type": "code",
   "execution_count": 6,
   "metadata": {},
   "outputs": [
    {
     "data": {
      "text/plain": [
       "array([[   0,    0,    0, ...,    0,    0,    0],\n",
       "       [   0,    1,    2, ...,   47,   48,   49],\n",
       "       [   0,    2,    4, ...,   94,   96,   98],\n",
       "       ...,\n",
       "       [   0,   27,   54, ..., 1269, 1296, 1323],\n",
       "       [   0,   28,   56, ..., 1316, 1344, 1372],\n",
       "       [   0,   29,   58, ..., 1363, 1392, 1421]])"
      ]
     },
     "execution_count": 6,
     "metadata": {},
     "output_type": "execute_result"
    }
   ],
   "source": [
    "np.outer(A, B)"
   ]
  },
  {
   "cell_type": "code",
   "execution_count": 8,
   "metadata": {},
   "outputs": [
    {
     "data": {
      "text/plain": [
       "array([[[[   0,    0,    0,    0,    0],\n",
       "         [   0,    0,    0,    0,    0],\n",
       "         [   0,    0,    0,    0,    0],\n",
       "         ...,\n",
       "         [   0,    0,    0,    0,    0],\n",
       "         [   0,    0,    0,    0,    0],\n",
       "         [   0,    0,    0,    0,    0]],\n",
       "\n",
       "        [[   0,    1,    2,    3,    4],\n",
       "         [   5,    6,    7,    8,    9],\n",
       "         [  10,   11,   12,   13,   14],\n",
       "         ...,\n",
       "         [  35,   36,   37,   38,   39],\n",
       "         [  40,   41,   42,   43,   44],\n",
       "         [  45,   46,   47,   48,   49]],\n",
       "\n",
       "        [[   0,    2,    4,    6,    8],\n",
       "         [  10,   12,   14,   16,   18],\n",
       "         [  20,   22,   24,   26,   28],\n",
       "         ...,\n",
       "         [  70,   72,   74,   76,   78],\n",
       "         [  80,   82,   84,   86,   88],\n",
       "         [  90,   92,   94,   96,   98]]],\n",
       "\n",
       "\n",
       "       [[[   0,    3,    6,    9,   12],\n",
       "         [  15,   18,   21,   24,   27],\n",
       "         [  30,   33,   36,   39,   42],\n",
       "         ...,\n",
       "         [ 105,  108,  111,  114,  117],\n",
       "         [ 120,  123,  126,  129,  132],\n",
       "         [ 135,  138,  141,  144,  147]],\n",
       "\n",
       "        [[   0,    4,    8,   12,   16],\n",
       "         [  20,   24,   28,   32,   36],\n",
       "         [  40,   44,   48,   52,   56],\n",
       "         ...,\n",
       "         [ 140,  144,  148,  152,  156],\n",
       "         [ 160,  164,  168,  172,  176],\n",
       "         [ 180,  184,  188,  192,  196]],\n",
       "\n",
       "        [[   0,    5,   10,   15,   20],\n",
       "         [  25,   30,   35,   40,   45],\n",
       "         [  50,   55,   60,   65,   70],\n",
       "         ...,\n",
       "         [ 175,  180,  185,  190,  195],\n",
       "         [ 200,  205,  210,  215,  220],\n",
       "         [ 225,  230,  235,  240,  245]]],\n",
       "\n",
       "\n",
       "       [[[   0,    6,   12,   18,   24],\n",
       "         [  30,   36,   42,   48,   54],\n",
       "         [  60,   66,   72,   78,   84],\n",
       "         ...,\n",
       "         [ 210,  216,  222,  228,  234],\n",
       "         [ 240,  246,  252,  258,  264],\n",
       "         [ 270,  276,  282,  288,  294]],\n",
       "\n",
       "        [[   0,    7,   14,   21,   28],\n",
       "         [  35,   42,   49,   56,   63],\n",
       "         [  70,   77,   84,   91,   98],\n",
       "         ...,\n",
       "         [ 245,  252,  259,  266,  273],\n",
       "         [ 280,  287,  294,  301,  308],\n",
       "         [ 315,  322,  329,  336,  343]],\n",
       "\n",
       "        [[   0,    8,   16,   24,   32],\n",
       "         [  40,   48,   56,   64,   72],\n",
       "         [  80,   88,   96,  104,  112],\n",
       "         ...,\n",
       "         [ 280,  288,  296,  304,  312],\n",
       "         [ 320,  328,  336,  344,  352],\n",
       "         [ 360,  368,  376,  384,  392]]],\n",
       "\n",
       "\n",
       "       ...,\n",
       "\n",
       "\n",
       "       [[[   0,   21,   42,   63,   84],\n",
       "         [ 105,  126,  147,  168,  189],\n",
       "         [ 210,  231,  252,  273,  294],\n",
       "         ...,\n",
       "         [ 735,  756,  777,  798,  819],\n",
       "         [ 840,  861,  882,  903,  924],\n",
       "         [ 945,  966,  987, 1008, 1029]],\n",
       "\n",
       "        [[   0,   22,   44,   66,   88],\n",
       "         [ 110,  132,  154,  176,  198],\n",
       "         [ 220,  242,  264,  286,  308],\n",
       "         ...,\n",
       "         [ 770,  792,  814,  836,  858],\n",
       "         [ 880,  902,  924,  946,  968],\n",
       "         [ 990, 1012, 1034, 1056, 1078]],\n",
       "\n",
       "        [[   0,   23,   46,   69,   92],\n",
       "         [ 115,  138,  161,  184,  207],\n",
       "         [ 230,  253,  276,  299,  322],\n",
       "         ...,\n",
       "         [ 805,  828,  851,  874,  897],\n",
       "         [ 920,  943,  966,  989, 1012],\n",
       "         [1035, 1058, 1081, 1104, 1127]]],\n",
       "\n",
       "\n",
       "       [[[   0,   24,   48,   72,   96],\n",
       "         [ 120,  144,  168,  192,  216],\n",
       "         [ 240,  264,  288,  312,  336],\n",
       "         ...,\n",
       "         [ 840,  864,  888,  912,  936],\n",
       "         [ 960,  984, 1008, 1032, 1056],\n",
       "         [1080, 1104, 1128, 1152, 1176]],\n",
       "\n",
       "        [[   0,   25,   50,   75,  100],\n",
       "         [ 125,  150,  175,  200,  225],\n",
       "         [ 250,  275,  300,  325,  350],\n",
       "         ...,\n",
       "         [ 875,  900,  925,  950,  975],\n",
       "         [1000, 1025, 1050, 1075, 1100],\n",
       "         [1125, 1150, 1175, 1200, 1225]],\n",
       "\n",
       "        [[   0,   26,   52,   78,  104],\n",
       "         [ 130,  156,  182,  208,  234],\n",
       "         [ 260,  286,  312,  338,  364],\n",
       "         ...,\n",
       "         [ 910,  936,  962,  988, 1014],\n",
       "         [1040, 1066, 1092, 1118, 1144],\n",
       "         [1170, 1196, 1222, 1248, 1274]]],\n",
       "\n",
       "\n",
       "       [[[   0,   27,   54,   81,  108],\n",
       "         [ 135,  162,  189,  216,  243],\n",
       "         [ 270,  297,  324,  351,  378],\n",
       "         ...,\n",
       "         [ 945,  972,  999, 1026, 1053],\n",
       "         [1080, 1107, 1134, 1161, 1188],\n",
       "         [1215, 1242, 1269, 1296, 1323]],\n",
       "\n",
       "        [[   0,   28,   56,   84,  112],\n",
       "         [ 140,  168,  196,  224,  252],\n",
       "         [ 280,  308,  336,  364,  392],\n",
       "         ...,\n",
       "         [ 980, 1008, 1036, 1064, 1092],\n",
       "         [1120, 1148, 1176, 1204, 1232],\n",
       "         [1260, 1288, 1316, 1344, 1372]],\n",
       "\n",
       "        [[   0,   29,   58,   87,  116],\n",
       "         [ 145,  174,  203,  232,  261],\n",
       "         [ 290,  319,  348,  377,  406],\n",
       "         ...,\n",
       "         [1015, 1044, 1073, 1102, 1131],\n",
       "         [1160, 1189, 1218, 1247, 1276],\n",
       "         [1305, 1334, 1363, 1392, 1421]]]])"
      ]
     },
     "execution_count": 8,
     "metadata": {},
     "output_type": "execute_result"
    }
   ],
   "source": [
    "np.multiply.outer(A, B)"
   ]
  },
  {
   "cell_type": "code",
   "execution_count": 14,
   "metadata": {},
   "outputs": [],
   "source": [
    "def outer_prod_broadcasting(A, B):\n",
    "    \"\"\" Broadcasting trick \"\"\"\n",
    "    # return A[:,:, None] * B[:, None]\n",
    "    return A[..., None] * B[:, None]\n",
    "    # A (10,3) -> (10, 3, 1)\n",
    "    # B (10,5) -> (10, 1, 5)"
   ]
  },
  {
   "cell_type": "code",
   "execution_count": 15,
   "metadata": {},
   "outputs": [],
   "source": [
    "def outer_prod_einsum(A, B):\n",
    "    \"\"\" einsum trick \"\"\"\n",
    "    return np.einsum(\"ij,ik->ijk\", A, B)\n",
    "\n",
    "    # Initialise output as an array of 0s with shape (10, 3, 5)\n",
    "    # for i:\n",
    "    #   for j:\n",
    "    #      for k:\n",
    "    #        output_ijk += A_ij * B_ik"
   ]
  },
  {
   "cell_type": "code",
   "execution_count": 16,
   "metadata": {},
   "outputs": [],
   "source": [
    "# Reshape both A and B arrays to match the output array shape\n",
    "# Then output_ijk = A_ijk * B_ijk\n",
    "def outer_prod_stride(A, B):\n",
    "    \"\"\" stride trick \"\"\"\n",
    "    a = A.shape[-1]\n",
    "    b = B.shape[-1]\n",
    "    d = A.strides[-1]\n",
    "    new_shape = A.shape + (b,)\n",
    "    As = np.lib.stride_tricks.as_strided(A, shape=new_shape, strides=(a*d, d, 0))\n",
    "    Bs = np.lib.stride_tricks.as_strided(B, shape=new_shape, strides=(b*d, d, 0))\n",
    "    return As * Bs"
   ]
  },
  {
   "cell_type": "code",
   "execution_count": 17,
   "metadata": {},
   "outputs": [
    {
     "name": "stdout",
     "output_type": "stream",
     "text": [
      "5.05 µs ± 1.39 µs per loop (mean ± std. dev. of 7 runs, 100,000 loops each)\n"
     ]
    }
   ],
   "source": [
    "%timeit op1 = outer_prod_broadcasting(A, B)"
   ]
  },
  {
   "cell_type": "code",
   "execution_count": 18,
   "metadata": {},
   "outputs": [
    {
     "name": "stdout",
     "output_type": "stream",
     "text": [
      "6.01 µs ± 932 ns per loop (mean ± std. dev. of 7 runs, 100,000 loops each)\n"
     ]
    }
   ],
   "source": [
    "%timeit op2 = outer_prod_einsum(A, B)"
   ]
  },
  {
   "cell_type": "code",
   "execution_count": 19,
   "metadata": {},
   "outputs": [
    {
     "name": "stdout",
     "output_type": "stream",
     "text": [
      "21.5 µs ± 1.07 µs per loop (mean ± std. dev. of 7 runs, 10,000 loops each)\n"
     ]
    }
   ],
   "source": [
    "%timeit op3 = outer_prod_stride(A, B)"
   ]
  }
 ],
 "metadata": {
  "kernelspec": {
   "display_name": "venv38",
   "language": "python",
   "name": "python3"
  },
  "language_info": {
   "codemirror_mode": {
    "name": "ipython",
    "version": 3
   },
   "file_extension": ".py",
   "mimetype": "text/x-python",
   "name": "python",
   "nbconvert_exporter": "python",
   "pygments_lexer": "ipython3",
   "version": "3.8.10"
  }
 },
 "nbformat": 4,
 "nbformat_minor": 2
}
