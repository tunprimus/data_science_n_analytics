version https://git-lfs.github.com/spec/v1
oid sha256:cc4b7bd168f0854a445f54ef03c9247f92a89b5bafdc0d18fa23f27e0c1e49ad
size 726108
