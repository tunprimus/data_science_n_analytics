version https://git-lfs.github.com/spec/v1
oid sha256:bd4d13048e827194e5eb75f255836cf9f32329e4efd2038235d1c9c0482f4192
size 27723
